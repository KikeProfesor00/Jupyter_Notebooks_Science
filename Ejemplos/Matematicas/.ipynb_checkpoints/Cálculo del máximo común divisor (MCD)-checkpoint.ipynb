{
 "cells": [
  {
   "cell_type": "markdown",
   "metadata": {},
   "source": [
    "# Cálculo del máximo común divisor (MCD)\n",
    "\n",
    "Se pretende determinar el máximo común divisor de varios números."
   ]
  },
  {
   "cell_type": "code",
   "execution_count": 15,
   "metadata": {},
   "outputs": [
    {
     "name": "stdout",
     "output_type": "stream",
     "text": [
      "¿Cuál es el número total de números para los que determinar el MCD?\n",
      "2\n",
      "Introduce el Número  1  = \n",
      "4\n",
      "Introduce el Número  2  = \n",
      "6\n"
     ]
    }
   ],
   "source": [
    "print(\"¿Cuál es el número total de números para los que determinar el MCD?\")\n",
    "TotalNumeros=int(input())\n",
    "Num=[]\n",
    "for n in range(TotalNumeros):\n",
    "    print(\"Introduce el Número \",n+1,\" = \")\n",
    "    Num.append(input())\n",
    "\n"
   ]
  },
  {
   "cell_type": "markdown",
   "metadata": {},
   "source": [
    "Determinemos la descomposición en factores..."
   ]
  },
  {
   "cell_type": "code",
   "execution_count": null,
   "metadata": {},
   "outputs": [],
   "source": [
    "def es_primo(num):\n",
    "    factores=[]\n",
    "    for n in range(2, num):\n",
    "        if num%n == 0:\n",
    "            print(n, \"es factor de \",num)\n",
    "            return\n",
    "    print(\"Es primo\")\n"
   ]
  }
 ],
 "metadata": {
  "kernelspec": {
   "display_name": "Python 3",
   "language": "python",
   "name": "python3"
  },
  "language_info": {
   "codemirror_mode": {
    "name": "ipython",
    "version": 3
   },
   "file_extension": ".py",
   "mimetype": "text/x-python",
   "name": "python",
   "nbconvert_exporter": "python",
   "pygments_lexer": "ipython3",
   "version": "3.8.3"
  }
 },
 "nbformat": 4,
 "nbformat_minor": 4
}
