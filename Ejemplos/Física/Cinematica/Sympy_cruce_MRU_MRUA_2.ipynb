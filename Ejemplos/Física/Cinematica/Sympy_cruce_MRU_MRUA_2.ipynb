{
 "cells": [
  {
   "cell_type": "markdown",
   "metadata": {},
   "source": [
    " # Interceptación de proyectil por otro proyectil. Sympy\n"
   ]
  },
  {
   "cell_type": "markdown",
   "metadata": {},
   "source": [
    "# Inicializando Sympy\n",
    "Este paquete carga sympy y lo prepara para trabajar\n",
    "Es necesario para utilizar la \"t\" como parámetro"
   ]
  },
  {
   "cell_type": "code",
   "execution_count": 1,
   "metadata": {},
   "outputs": [
    {
     "name": "stdout",
     "output_type": "stream",
     "text": [
      "IPython console for SymPy 1.8 (Python 3.8.3-64-bit) (ground types: gmpy)\n",
      "\n",
      "These commands were executed:\n",
      ">>> from __future__ import division\n",
      ">>> from sympy import *\n",
      ">>> x, y, z, t = symbols('x y z t')\n",
      ">>> k, m, n = symbols('k m n', integer=True)\n",
      ">>> f, g, h = symbols('f g h', cls=Function)\n",
      ">>> init_printing()\n",
      "\n",
      "Documentation can be found at https://docs.sympy.org/1.8/\n",
      "\n"
     ]
    }
   ],
   "source": [
    "from sympy import init_session\n",
    "init_session(use_latex=True)"
   ]
  },
  {
   "cell_type": "markdown",
   "metadata": {},
   "source": [
    "El comando init_session llevaría a cabo algunas acciones por nostros:\n",
    "\n",
    "    Gracias a use_latex=True obtenemos la salida en 𝐿𝐴𝑇𝐸𝑋.\n",
    "    Crea una serie de variables para que podamos ponernos a trabajar en el momento.\n",
    "\n",
    "Para más información, accceder a la documentación de Sympy:\n",
    "\n",
    "https://docs.sympy.org/latest/index.html"
   ]
  },
  {
   "cell_type": "markdown",
   "metadata": {},
   "source": [
    "Creamos los simbolos habituales (reales y complejos) así como las Funciones"
   ]
  },
  {
   "cell_type": "code",
   "execution_count": 2,
   "metadata": {},
   "outputs": [],
   "source": [
    "a, b, c = symbols('a b c')   # La opción symbols('a',real=TRUE) restringiría el rango de la variable"
   ]
  },
  {
   "cell_type": "code",
   "execution_count": 3,
   "metadata": {},
   "outputs": [],
   "source": [
    "C = symbols('C', complex='True')"
   ]
  },
  {
   "cell_type": "code",
   "execution_count": 4,
   "metadata": {},
   "outputs": [
    {
     "data": {
      "image/png": "[encoded data removed]",
      "text/latex": [
       "$\\displaystyle \\left( \\Omega, \\  \\omega\\right)$"
      ],
      "text/plain": [
       "(Ω, ω)"
      ]
     },
     "execution_count": 4,
     "metadata": {},
     "output_type": "execute_result"
    }
   ],
   "source": [
    "w = symbols('Omega')\n",
    "W = symbols('omega')\n",
    "w, W"
   ]
  },
  {
   "cell_type": "markdown",
   "metadata": {},
   "source": [
    "# Enunciado\n",
    "\n",
    "Un vehículo que circula a 140 km·h⁻¹ llega al borde de un precipicio de 60 m de alto.\n",
    "\n",
    "Un segundo más tarde, un sistema inteligente de rastreo localiza el vehículo y lanza un proyectil a su encuentro con la intención de que impacte por encima de los 30 m.\n",
    "\n",
    "Determina la velocidad y ángulo de lanzamiento."
   ]
  },
  {
   "cell_type": "code",
   "execution_count": 5,
   "metadata": {},
   "outputs": [],
   "source": [
    "# Datos iniciales\n",
    "x_coche_0 = 0         # m\n",
    "y_coche_0 = 60        # m\n",
    "v_coche_x = 140 /3.6  # m·s-1\n",
    "v_coche_y_0 = 0       # m·s-1\n",
    "g = 9.81              # m·s-2\n",
    "\n",
    "# Condiciones de contorno finales\n",
    "y_coche_final = 30    # m"
   ]
  },
  {
   "cell_type": "code",
   "execution_count": 6,
   "metadata": {},
   "outputs": [],
   "source": [
    "# Comenzamos importando las funciones que vamos a utilizar:\n",
    "#   * gráfico interno a documento\n",
    "#   * importamos funciones de dibujo\n",
    "#   * importamos libreria de operaciones numéricas con arrays\n",
    "\n",
    "%matplotlib inline\n",
    "from ipywidgets import interactive, fixed\n",
    "from matplotlib import pyplot as plt\n",
    "import numpy as np"
   ]
  },
  {
   "cell_type": "code",
   "execution_count": 7,
   "metadata": {},
   "outputs": [],
   "source": [
    "# Definimos la función Sol_correcta(solución_lista) que escoge la solución\n",
    "# correcta. \n",
    "\n",
    "def Sol_correcta(s):\n",
    "    # Es solución única\n",
    "    if len(s)>1:                   # Si es doble solución...\n",
    "        if s[0]*s[1]<0:            #  Si tienen diferente signo\n",
    "            t_sol=max(s[0],s[1])   #    la solución es la mayor de ellas\n",
    "        else:                      #  Si tiene el mismo signo (mal ambos neg)\n",
    "            t_sol=min(s[0],s[1])   #    la solución es la menor de ellas\n",
    "    else:                          # es solución única\n",
    "        t_sol = s[0]               #    para evitar que sea una lista\n",
    "    return(t_sol)"
   ]
  },
  {
   "cell_type": "code",
   "execution_count": 8,
   "metadata": {
    "tags": []
   },
   "outputs": [
    {
     "name": "stdout",
     "output_type": "stream",
     "text": [
      "La altura del coche viene regida por la ecuación\n",
      "h =  60 - 4.905*t**2\n"
     ]
    }
   ],
   "source": [
    "# Ecuaciones de movimiento\n",
    "\n",
    "# Coche\n",
    "\n",
    "y_coche = y_coche_0 + v_coche_y_0 * t - 1/2 * g * t**2;\n",
    "\n",
    "print('La altura del coche viene regida por la ecuación\\nh = ',y_coche)"
   ]
  },
  {
   "cell_type": "code",
   "execution_count": 9,
   "metadata": {
    "tags": []
   },
   "outputs": [
    {
     "name": "stdout",
     "output_type": "stream",
     "text": [
      "La altura del proyectil viene regida por la ecuación\n",
      "h =  -4.905*t**2 + 20*t\n"
     ]
    }
   ],
   "source": [
    "#Ecuaciones de movimiento\n",
    "\n",
    "# proyectil\n",
    "\n",
    "# comenzamos con la misma velocidad horizontal\n",
    "# después la definiremos en función del ángulo, pero con catetos\n",
    "# ya que la hipotenusa es la velocidad. Recordar que los catetos\n",
    "# se relacionan por la hipotenusa (no utilizamos el ángulo)\n",
    "\n",
    "x_proyectil_0 = 0     # m\n",
    "y_proyectil_0 = 0     # m\n",
    "v_proyectil_x = v_coche_x ; \n",
    "v_proyectil_y = 20    # m·s-1\n",
    "\n",
    "y_proyectil = y_proyectil_0 + v_proyectil_y * t - 1/2 * g * t**2\n",
    "print('La altura del proyectil viene regida por la ecuación\\nh = ',y_proyectil)"
   ]
  },
  {
   "cell_type": "markdown",
   "metadata": {},
   "source": [
    "Determinemos el lugar de intersección"
   ]
  },
  {
   "cell_type": "code",
   "execution_count": 12,
   "metadata": {},
   "outputs": [
    {
     "name": "stdout",
     "output_type": "stream",
     "text": [
      "Igualando las ecuaciones de altura: \n",
      "\n"
     ]
    },
    {
     "data": {
      "image/png": "[encoded data removed]",
      "text/latex": [
       "$\\displaystyle 60 - 4.905 t^{2} = - 4.905 t^{2} + 20 t$"
      ],
      "text/plain": [
       "            2            2       \n",
       "60 - 4.905⋅t  = - 4.905⋅t  + 20⋅t"
      ]
     },
     "execution_count": 12,
     "metadata": {},
     "output_type": "execute_result"
    }
   ],
   "source": [
    "Interseccion= Eq(y_coche,y_proyectil);\n",
    "print('Igualando las ecuaciones de altura: \\n');\n",
    "Interseccion"
   ]
  },
  {
   "cell_type": "code",
   "execution_count": 13,
   "metadata": {
    "tags": []
   },
   "outputs": [
    {
     "name": "stdout",
     "output_type": "stream",
     "text": [
      "\n",
      "Y las soluciones a su punto de encuentro son:  [3.00000000000000]\n"
     ]
    }
   ],
   "source": [
    "solucion=solve(Interseccion);\n",
    "print('\\nY las soluciones a su punto de encuentro son: ',solucion)"
   ]
  },
  {
   "cell_type": "markdown",
   "metadata": {},
   "source": [
    "Analicemos la solución:\n",
    "   * si es única será la correcta\n",
    "   * si es doble, nos quedaremos con la positiva\n",
    "   * Si es doble y ambas positivas, nos quedamos con al menor"
   ]
  },
  {
   "cell_type": "code",
   "execution_count": 14,
   "metadata": {},
   "outputs": [
    {
     "name": "stdout",
     "output_type": "stream",
     "text": [
      "La solución correcta es: 3.00000000000000\n"
     ]
    }
   ],
   "source": [
    "t_sol = Sol_correcta(solucion)\n",
    "print(\"La solución correcta es:\",t_sol)"
   ]
  },
  {
   "cell_type": "code",
   "execution_count": 16,
   "metadata": {},
   "outputs": [
    {
     "data": {
      "image/png": "[encoded data removed]",
      "text/latex": [
       "$\\displaystyle \\left[ -3.49748708391334, \\  3.49748708391334\\right]$"
      ],
      "text/plain": [
       "[-3.49748708391334, 3.49748708391334]"
      ]
     },
     "execution_count": 16,
     "metadata": {},
     "output_type": "execute_result"
    }
   ],
   "source": [
    "# Llega al suelo el coche sin impacto\n",
    "t_suelo = solve(Eq(y_coche,0))\n",
    "t_suelo"
   ]
  },
  {
   "cell_type": "markdown",
   "metadata": {},
   "source": [
    "También es posible determinar el tiempo que habría tardado el coche en llegar al suelo."
   ]
  },
  {
   "cell_type": "code",
   "execution_count": 17,
   "metadata": {},
   "outputs": [
    {
     "name": "stdout",
     "output_type": "stream",
     "text": [
      "La solución es: 3.49748708391334\n"
     ]
    }
   ],
   "source": [
    "t_suelo_OK = Sol_correcta(t_suelo)\n",
    "print(\"La solución es:\",t_suelo_OK)"
   ]
  },
  {
   "cell_type": "markdown",
   "metadata": {},
   "source": [
    "Representamos las funciones de caida de ambos cuerpos para verificar que ambos colisionan en el lugar indicado y en el piempo indicado."
   ]
  },
  {
   "cell_type": "code",
   "execution_count": 18,
   "metadata": {},
   "outputs": [
    {
     "data": {
      "text/plain": [
       "[<matplotlib.lines.Line2D at 0x7f81fda3c400>]"
      ]
     },
     "execution_count": 18,
     "metadata": {},
     "output_type": "execute_result"
    },
    {
     "data": {
      "image/png": "[encoded data removed]",
      "text/plain": [
       "<Figure size 720x432 with 1 Axes>"
      ]
     },
     "metadata": {
      "needs_background": "light"
     },
     "output_type": "display_data"
    }
   ],
   "source": [
    "# Dibujando las ecuaciones\n",
    "t_lin=np.linspace(0,int(t_sol*1.2*1e3)/1e3,num=20)\n",
    "\n",
    "# Creamos el array y lo rellenamos de ceros\n",
    "y_caida_graf  = np.zeros(len(t_lin))\n",
    "y_subida_graf = np.zeros(len(t_lin))\n",
    "\n",
    "# Ahora rellenamos el array con los valores que le corresponden\n",
    "for  i in range(len(t_lin)):\n",
    "    y_caida_graf[i]  = y_coche.subs(t,t_lin[i])\n",
    "    y_subida_graf[i] = y_proyectil.subs(t,t_lin[i])\n",
    "\n",
    "# Ahora definimos el tamaño del gráfico a más grande\n",
    "plt.figure(figsize=(10,6))\n",
    "# y delimitamos la región a representar => np.int() is deprecate, utilizar int()\n",
    "plt.xlim(0,int(t_sol*1.2*1e3)/1e3)\n",
    "plt.ylim(0,65)\n",
    "\n",
    "# Introducimos leyendas\n",
    "plt.xlabel('t')\n",
    "plt.ylabel('y')\n",
    "\n",
    "# Representamos las funciones\n",
    "plt.plot(t_lin,y_caida_graf)\n",
    "plt.plot(t_lin,y_subida_graf)\n"
   ]
  }
 ],
 "metadata": {
  "kernelspec": {
   "display_name": "Python 3",
   "language": "python",
   "name": "python3"
  },
  "language_info": {
   "codemirror_mode": {
    "name": "ipython",
    "version": 3
   },
   "file_extension": ".py",
   "mimetype": "text/x-python",
   "name": "python",
   "nbconvert_exporter": "python",
   "pygments_lexer": "ipython3",
   "version": "3.8.3"
  }
 },
 "nbformat": 4,
 "nbformat_minor": 4
}
