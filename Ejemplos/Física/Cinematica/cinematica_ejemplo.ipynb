{
 "cells": [
  {
   "cell_type": "code",
   "execution_count": 1,
   "id": "b8c7605f",
   "metadata": {},
   "outputs": [
    {
     "name": "stdout",
     "output_type": "stream",
     "text": [
      "IPython console for SymPy 1.8 (Python 3.8.3-64-bit) (ground types: gmpy)\n",
      "\n",
      "These commands were executed:\n",
      ">>> from __future__ import division\n",
      ">>> from sympy import *\n",
      ">>> x, y, z, t = symbols('x y z t')\n",
      ">>> k, m, n = symbols('k m n', integer=True)\n",
      ">>> f, g, h = symbols('f g h', cls=Function)\n",
      ">>> init_printing()\n",
      "\n",
      "Documentation can be found at https://docs.sympy.org/1.8/\n",
      "\n",
      "------------------------------\n",
      "Biblioteca con las ecuaciones cinemáticas más importantes\n",
      "Se proporcionan las ecuaciones de movimiento y de velocidad en una lista\n",
      "MRU(x0,v0,t) ==>  (Ec pos, Ec vel)\n",
      "MRU_x(x0,v0,t) ==> (Ec pos)\n",
      "MRU_v(x0,v0,t) ==> (Ec vel)\n",
      "MRUA(x0,v0,a,t) ==>  (Ec pos, Ec vel)\n",
      "MRUA_x(x0,v0,a,t) ==>  (Ec pos)\n",
      "MRUA_v(x0,v0,a,t) ==>  (Ec vel)\n",
      "\n",
      "La siguiente función devuelve de estre las soluciones de una ecuación de segundo grado, la positiva, y si son dos, la menor de estas.\n",
      "Sol_correcta(s) ==>  Solución correcta\n"
     ]
    }
   ],
   "source": [
    "import cinematica as cine\n",
    "%matplotlib inline"
   ]
  },
  {
   "cell_type": "code",
   "execution_count": 2,
   "id": "f37db354",
   "metadata": {},
   "outputs": [],
   "source": [
    "coche=cine.MRU(2,3,t)"
   ]
  },
  {
   "cell_type": "markdown",
   "id": "d5982de3",
   "metadata": {},
   "source": [
    "Ecuacion de movimiento"
   ]
  },
  {
   "cell_type": "code",
   "execution_count": 3,
   "id": "a43ad519",
   "metadata": {},
   "outputs": [
    {
     "data": {
      "image/png": "[encoded data removed]",
      "text/latex": [
       "$\\displaystyle 3 t + 2$"
      ],
      "text/plain": [
       "3⋅t + 2"
      ]
     },
     "execution_count": 3,
     "metadata": {},
     "output_type": "execute_result"
    }
   ],
   "source": [
    "coche[0]"
   ]
  },
  {
   "cell_type": "markdown",
   "id": "0a04938b",
   "metadata": {},
   "source": [
    "Ecuacion de velocidad"
   ]
  },
  {
   "cell_type": "code",
   "execution_count": 4,
   "id": "d4d92bbe",
   "metadata": {},
   "outputs": [
    {
     "data": {
      "image/png": "[encoded data removed]",
      "text/latex": [
       "$\\displaystyle 3$"
      ],
      "text/plain": [
       "3"
      ]
     },
     "execution_count": 4,
     "metadata": {},
     "output_type": "execute_result"
    }
   ],
   "source": [
    "coche[1]"
   ]
  },
  {
   "cell_type": "markdown",
   "id": "0698c8d9",
   "metadata": {},
   "source": [
    "Encontramos cuando llega al punto 8 "
   ]
  },
  {
   "cell_type": "code",
   "execution_count": 5,
   "id": "b3f02d3e",
   "metadata": {},
   "outputs": [
    {
     "data": {
      "image/png": "[encoded data removed]",
      "text/latex": [
       "$\\displaystyle 2$"
      ],
      "text/plain": [
       "2"
      ]
     },
     "execution_count": 5,
     "metadata": {},
     "output_type": "execute_result"
    }
   ],
   "source": [
    "solve(coche[0]-8,t)[0]\n",
    "# Proporciona una lista con las soluciones\n"
   ]
  },
  {
   "cell_type": "markdown",
   "id": "1a79c74e",
   "metadata": {},
   "source": [
    "Eq proporciona una ecuación simbólica a partir de sus miembros.\n",
    "\n",
    "Eq(miembro , miembro ) "
   ]
  },
  {
   "cell_type": "code",
   "execution_count": 6,
   "id": "08882ecd",
   "metadata": {},
   "outputs": [
    {
     "data": {
      "image/png": "[encoded data removed]",
      "text/latex": [
       "$\\displaystyle 3 t + 2 = 8$"
      ],
      "text/plain": [
       "3⋅t + 2 = 8"
      ]
     },
     "execution_count": 6,
     "metadata": {},
     "output_type": "execute_result"
    }
   ],
   "source": [
    "Eq(coche[0],8)"
   ]
  },
  {
   "cell_type": "code",
   "execution_count": 7,
   "id": "b3dc98cd",
   "metadata": {},
   "outputs": [
    {
     "data": {
      "image/png": "[encoded data removed]",
      "text/latex": [
       "$\\displaystyle \\left[ 2\\right]$"
      ],
      "text/plain": [
       "[2]"
      ]
     },
     "execution_count": 7,
     "metadata": {},
     "output_type": "execute_result"
    }
   ],
   "source": [
    "solve(Eq(coche[0],8),t)"
   ]
  },
  {
   "cell_type": "code",
   "execution_count": 8,
   "id": "4f58031a",
   "metadata": {},
   "outputs": [
    {
     "data": {
      "image/png": "[encoded data removed]",
      "text/latex": [
       "$\\displaystyle 2$"
      ],
      "text/plain": [
       "2"
      ]
     },
     "execution_count": 8,
     "metadata": {},
     "output_type": "execute_result"
    }
   ],
   "source": [
    "solve(Eq(coche[0],8),t)[0]"
   ]
  },
  {
   "cell_type": "code",
   "execution_count": 9,
   "id": "e97caa87-7e69-4e62-a04d-b116cb3d086a",
   "metadata": {},
   "outputs": [],
   "source": [
    "moto=cine.MRUA(2,-3,4,t)"
   ]
  },
  {
   "cell_type": "markdown",
   "id": "c89cdf7c",
   "metadata": {},
   "source": [
    "Moto contiene las ecuaciones de movimiento y velocidad en una lista. \n",
    "Al ser un MRUA, contiene la posición en el primer valor y la la velocidad en en el segundo . "
   ]
  },
  {
   "cell_type": "code",
   "execution_count": 10,
   "id": "248eeee0-4a18-4ec5-b683-4dc0d8f3f350",
   "metadata": {},
   "outputs": [
    {
     "data": {
      "image/png": "[encoded data removed]",
      "text/latex": [
       "$\\displaystyle \\left( 2.0 t^{2} - 3 t + 2, \\  4 t - 3\\right)$"
      ],
      "text/plain": [
       "⎛     2                   ⎞\n",
       "⎝2.0⋅t  - 3⋅t + 2, 4⋅t - 3⎠"
      ]
     },
     "execution_count": 10,
     "metadata": {},
     "output_type": "execute_result"
    }
   ],
   "source": [
    "moto"
   ]
  },
  {
   "cell_type": "markdown",
   "id": "78673466",
   "metadata": {},
   "source": [
    "Se puede representar cada una de las ecuaciones de posición y velocidad de posición y velocidad a partir su posición en la lista. "
   ]
  },
  {
   "cell_type": "code",
   "execution_count": 11,
   "id": "7266329d-06c7-4bb1-917f-b4cbc9e0f858",
   "metadata": {},
   "outputs": [
    {
     "data": {
      "image/png": "[encoded data removed]",
      "text/plain": [
       "<Figure size 432x288 with 1 Axes>"
      ]
     },
     "metadata": {
      "needs_background": "light"
     },
     "output_type": "display_data"
    },
    {
     "data": {
      "image/png": "[encoded data removed]",
      "text/plain": [
       "<Figure size 432x288 with 1 Axes>"
      ]
     },
     "metadata": {
      "needs_background": "light"
     },
     "output_type": "display_data"
    },
    {
     "data": {
      "text/plain": [
       "<sympy.plotting.plot.Plot at 0x7fabe2316c70>"
      ]
     },
     "execution_count": 11,
     "metadata": {},
     "output_type": "execute_result"
    }
   ],
   "source": [
    "plot(moto[0])\n",
    "plot(moto[1])"
   ]
  },
  {
   "cell_type": "code",
   "execution_count": 12,
   "id": "9e8b84db-56a4-47ef-a0a8-ecfbbe7af132",
   "metadata": {},
   "outputs": [
    {
     "name": "stdout",
     "output_type": "stream",
     "text": [
      "-2.0*t**2 + 3*t + 2\n",
      "3 - 4*t\n"
     ]
    }
   ],
   "source": [
    "avion_x=cine.MRUA_x(2,3,-4,t)\n",
    "print(avion_x)\n",
    "avion_v=cine.MRUA_v(2,3,-4,t)\n",
    "print(avion_v)"
   ]
  },
  {
   "cell_type": "code",
   "execution_count": 13,
   "id": "53dcbdc9",
   "metadata": {},
   "outputs": [
    {
     "data": {
      "image/png": "[encoded data removed]",
      "text/latex": [
       "$\\displaystyle 2.0 t^{2} - 3 t + 2 = - 2.0 t^{2} + 3 t + 2$"
      ],
      "text/plain": [
       "     2                    2          \n",
       "2.0⋅t  - 3⋅t + 2 = - 2.0⋅t  + 3⋅t + 2"
      ]
     },
     "execution_count": 13,
     "metadata": {},
     "output_type": "execute_result"
    }
   ],
   "source": [
    "colision=Eq(moto[0],avion_x)\n",
    "colision"
   ]
  },
  {
   "cell_type": "code",
   "execution_count": 14,
   "id": "d2702756",
   "metadata": {},
   "outputs": [
    {
     "data": {
      "image/png": "[encoded data removed]",
      "text/latex": [
       "$\\displaystyle \\left[ 0.0, \\  1.5\\right]$"
      ],
      "text/plain": [
       "[0.0, 1.5]"
      ]
     },
     "execution_count": 14,
     "metadata": {},
     "output_type": "execute_result"
    }
   ],
   "source": [
    "solve(colision)"
   ]
  },
  {
   "cell_type": "markdown",
   "id": "b77966e8-9d1d-4dfc-bd22-30571d9f8a5c",
   "metadata": {},
   "source": [
    "Para imprimir en Latex, pero no sale bien la potencia!!!"
   ]
  },
  {
   "cell_type": "code",
   "execution_count": 19,
   "id": "326ec66a-0aa9-468e-9cde-3c6eef35dd7d",
   "metadata": {},
   "outputs": [
    {
     "name": "stdout",
     "output_type": "stream",
     "text": [
      "-2.0*t**2 + 3*t + 2\n"
     ]
    },
    {
     "data": {
      "text/latex": [
       "$\\displaystyle -2.0*t**2 + 3*t + 2$"
      ],
      "text/plain": [
       "<IPython.core.display.Math object>"
      ]
     },
     "metadata": {},
     "output_type": "display_data"
    },
    {
     "data": {
      "image/png": "[encoded data removed]",
      "text/latex": [
       "$\\displaystyle - 2.0 t^{2} + 3 t + 2$"
      ],
      "text/plain": [
       "       2          \n",
       "- 2.0⋅t  + 3⋅t + 2"
      ]
     },
     "execution_count": 19,
     "metadata": {},
     "output_type": "execute_result"
    }
   ],
   "source": [
    "from IPython.display import display, Math, Latex\n",
    "\n",
    "print(avion_x)\n",
    "display(Math(r'{}'.format(avion_x)))\n",
    "avion_x"
   ]
  },
  {
   "cell_type": "code",
   "execution_count": 16,
   "id": "786850aa",
   "metadata": {},
   "outputs": [
    {
     "ename": "AttributeError",
     "evalue": "module 'matplotlib' has no attribute 'plot'",
     "output_type": "error",
     "traceback": [
      "\u001b[0;31m---------------------------------------------------------------------------\u001b[0m",
      "\u001b[0;31mAttributeError\u001b[0m                            Traceback (most recent call last)",
      "\u001b[0;32m<ipython-input-16-7c89be82ef80>\u001b[0m in \u001b[0;36m<module>\u001b[0;34m\u001b[0m\n\u001b[0;32m----> 1\u001b[0;31m \u001b[0mmatplotlib\u001b[0m\u001b[0;34m.\u001b[0m\u001b[0mplot\u001b[0m\u001b[0;34m(\u001b[0m\u001b[0mcoche\u001b[0m\u001b[0;34m[\u001b[0m\u001b[0;36m0\u001b[0m\u001b[0;34m]\u001b[0m\u001b[0;34m)\u001b[0m\u001b[0;34m\u001b[0m\u001b[0;34m\u001b[0m\u001b[0m\n\u001b[0m\u001b[1;32m      2\u001b[0m \u001b[0mmatplotlib\u001b[0m\u001b[0;34m.\u001b[0m\u001b[0mplot\u001b[0m\u001b[0;34m(\u001b[0m\u001b[0mavion_x\u001b[0m\u001b[0;34m)\u001b[0m\u001b[0;34m\u001b[0m\u001b[0;34m\u001b[0m\u001b[0m\n",
      "\u001b[0;31mAttributeError\u001b[0m: module 'matplotlib' has no attribute 'plot'"
     ]
    }
   ],
   "source": [
    "matplotlib.plot(coche[0])\n",
    "matplotlib.plot(avion_x)"
   ]
  },
  {
   "cell_type": "code",
   "execution_count": null,
   "id": "e0bd9cda-66d1-49f6-a282-06624822aaf1",
   "metadata": {},
   "outputs": [],
   "source": []
  }
 ],
 "metadata": {
  "kernelspec": {
   "display_name": "Python 3",
   "language": "python",
   "name": "python3"
  },
  "language_info": {
   "codemirror_mode": {
    "name": "ipython",
    "version": 3
   },
   "file_extension": ".py",
   "mimetype": "text/x-python",
   "name": "python",
   "nbconvert_exporter": "python",
   "pygments_lexer": "ipython3",
   "version": "3.8.3"
  }
 },
 "nbformat": 4,
 "nbformat_minor": 5
}
