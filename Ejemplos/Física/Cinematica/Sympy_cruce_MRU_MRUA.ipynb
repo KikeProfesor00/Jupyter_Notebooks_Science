{
 "cells": [
  {
   "cell_type": "markdown",
   "metadata": {},
   "source": [
    " # Interceptación de proyectil por otro proyectil. Sympy\n"
   ]
  },
  {
   "cell_type": "markdown",
   "metadata": {},
   "source": [
    "# Inicializando Sympy\n",
    "Este paquete carga sympy y lo prepara para trabajar.\n",
    "Es necesario para utilizar la \"t\" como parámetro"
   ]
  },
  {
   "cell_type": "code",
   "execution_count": 1,
   "metadata": {},
   "outputs": [
    {
     "name": "stdout",
     "output_type": "stream",
     "text": [
      "IPython console for SymPy 1.8 (Python 3.8.3-64-bit) (ground types: gmpy)\n",
      "\n",
      "These commands were executed:\n",
      ">>> from __future__ import division\n",
      ">>> from sympy import *\n",
      ">>> x, y, z, t = symbols('x y z t')\n",
      ">>> k, m, n = symbols('k m n', integer=True)\n",
      ">>> f, g, h = symbols('f g h', cls=Function)\n",
      ">>> init_printing()\n",
      "\n",
      "Documentation can be found at https://docs.sympy.org/1.8/\n",
      "\n"
     ]
    }
   ],
   "source": [
    "from sympy import init_session\n",
    "init_session(use_latex=True)"
   ]
  },
  {
   "cell_type": "markdown",
   "metadata": {},
   "source": [
    "El comando init_session llevaría a cabo algunas acciones por nostros:\n",
    "\n",
    "    Gracias a use_latex=True obtenemos la salida en 𝐿𝐴𝑇𝐸𝑋.\n",
    "    Crea una serie de variables para que podamos ponernos a trabajar en el momento.\n",
    "\n",
    "Para más información, accceder a la documentación de Sympy:\n",
    "\n",
    "https://docs.sympy.org/latest/index.html"
   ]
  },
  {
   "cell_type": "markdown",
   "metadata": {},
   "source": [
    "Creamos los simbolos habituales (reales y complejos) así como las Funciones"
   ]
  },
  {
   "cell_type": "code",
   "execution_count": 2,
   "metadata": {},
   "outputs": [],
   "source": [
    "a, b, c = symbols('a b c')   # La opción symbols('a',real=TRUE) restringiría el rango de la variable"
   ]
  },
  {
   "cell_type": "code",
   "execution_count": 3,
   "metadata": {},
   "outputs": [],
   "source": [
    "C = symbols('C', complex='True')"
   ]
  },
  {
   "cell_type": "code",
   "execution_count": 4,
   "metadata": {},
   "outputs": [
    {
     "data": {
      "image/png": "[encoded data removed]",
      "text/latex": [
       "$\\displaystyle \\left( \\Omega, \\  \\omega\\right)$"
      ],
      "text/plain": [
       "(Ω, ω)"
      ]
     },
     "execution_count": 4,
     "metadata": {},
     "output_type": "execute_result"
    }
   ],
   "source": [
    "w = symbols('Omega')\n",
    "W = symbols('omega')\n",
    "w, W"
   ]
  },
  {
   "cell_type": "markdown",
   "metadata": {},
   "source": [
    "Importamos las librerías correspondientes así como definimos una función que permite seleccionar la solución correcta entre las posibles."
   ]
  },
  {
   "cell_type": "code",
   "execution_count": 5,
   "metadata": {},
   "outputs": [],
   "source": [
    "# Comenzamos importando las funciones que vamos a utilizar:\n",
    "#   * gráfico interno a documento\n",
    "#   * importamos funciones de dibujo\n",
    "#   * importamos libreria de operaciones numéricas con arrays\n",
    "\n",
    "%matplotlib inline\n",
    "from ipywidgets import interactive, fixed\n",
    "from matplotlib import pyplot as plt\n",
    "import numpy as np\n",
    "import math"
   ]
  },
  {
   "cell_type": "code",
   "execution_count": 6,
   "metadata": {},
   "outputs": [],
   "source": [
    "# Definimos la función Sol_correcta(solución_lista) que escoge la solución\n",
    "# correcta. \n",
    "\n",
    "def Sol_correcta(s):\n",
    "    # Es solución única\n",
    "    if len(s)>1:                   # Si es doble solución...\n",
    "        if s[0]*s[1]<0:            #  Si tienen diferente signo\n",
    "            t_sol=max(s[0],s[1])   #    la solución es la mayor de ellas\n",
    "        else:                      #  Si tiene el mismo signo (mal ambos neg)\n",
    "            t_sol=min(s[0],s[1])   #    la solución es la menor de ellas\n",
    "    else:                          # es solución única\n",
    "        t_sol = s[0]               #    para evitar que sea una lista\n",
    "    return(t_sol)"
   ]
  },
  {
   "cell_type": "markdown",
   "metadata": {},
   "source": [
    "***\n",
    "***\n",
    "# Enunciado\n",
    "***\n",
    "***\n",
    "\n",
    "Un vehículo que circula a 140 km·h⁻¹ llega al borde de un precipicio de 60 m de alto.\n",
    "\n",
    "Un segundo más tarde, un sistema inteligente de rastreo localiza el vehículo y lanza un proyectil a 160 km·h⁻¹ con un ángulo de elevación de 30º.\n",
    "\n",
    "Determina dónde y cuando se encuentran."
   ]
  },
  {
   "cell_type": "markdown",
   "metadata": {},
   "source": [
    "### Ecuaciones de movimiento del coche\n",
    "---\n",
    "Comenzamos indicando los datos iniciales del coche para poder obtener sus ecuaciones de movimiento."
   ]
  },
  {
   "cell_type": "code",
   "execution_count": 7,
   "metadata": {},
   "outputs": [],
   "source": [
    "# Datos iniciales\n",
    "x_coche_0 = 0         # m\n",
    "y_coche_0 = 60        # m\n",
    "v_coche_x_0 = 140 /3.6  # m·s-1\n",
    "v_coche_y_0 = 0       # m·s-1\n",
    "g = 9.81              # m·s-2\n",
    "\n",
    "# Condiciones de contorno finales\n",
    "y_coche_final = 30    # m"
   ]
  },
  {
   "cell_type": "code",
   "execution_count": 24,
   "metadata": {
    "tags": []
   },
   "outputs": [
    {
     "name": "stdout",
     "output_type": "stream",
     "text": [
      "Las ecuaciones de movimiento son:\n",
      "   x_coche =  38.8888888888889*t  m\n",
      "   y_coche = 60 - 4.905*t**2  m\n",
      "\n",
      "Las ecuaciones de velocidad son:\n",
      "   v_coche_x = 38.888888888888886  m·s⁻¹\n",
      "   v_coche_y = -9.81*t  m·s⁻¹\n"
     ]
    }
   ],
   "source": [
    "# Ecuaciones de movimiento del Coche\n",
    "#    Posición\n",
    "x_coche = x_coche_0 + v_coche_x_0 * t\n",
    "y_coche = y_coche_0 + v_coche_y_0 * t - 1/2 * g * t**2\n",
    "#    Velocidad\n",
    "v_coche_x = v_coche_x_0\n",
    "v_coche_y = v_coche_y_0 - g * t\n",
    "\n",
    "print('Las ecuaciones de movimiento son:')\n",
    "print('   x_coche = ',x_coche,' m')\n",
    "print('   y_coche =',y_coche,' m\\n')\n",
    "print('Las ecuaciones de velocidad son:')\n",
    "print('   v_coche_x =',v_coche_x,' m·s⁻¹')\n",
    "print('   v_coche_y =',v_coche_y,' m·s⁻¹')"
   ]
  },
  {
   "cell_type": "markdown",
   "metadata": {},
   "source": [
    "También es posible determinar el tiempo que habría tardado el coche en llegar al suelo. Resolvemos la ecuación de movimiento donde la altura final es cero y obtendremos dos posible soluciones."
   ]
  },
  {
   "cell_type": "code",
   "execution_count": 9,
   "metadata": {},
   "outputs": [
    {
     "data": {
      "image/png": "[encoded data removed]",
      "text/latex": [
       "$\\displaystyle \\left[ -3.49748708391334, \\  3.49748708391334\\right]$"
      ],
      "text/plain": [
       "[-3.49748708391334, 3.49748708391334]"
      ]
     },
     "execution_count": 9,
     "metadata": {},
     "output_type": "execute_result"
    }
   ],
   "source": [
    "# Llega al suelo el coche sin impacto\n",
    "t_suelo = solve(Eq(y_coche,0))\n",
    "t_suelo"
   ]
  },
  {
   "cell_type": "markdown",
   "metadata": {},
   "source": [
    "De estre estas soluciones, nos quedaremos con la correcta. Esta nos indicará un valor máximo al tiempo en que el proyectil tiene que encontrar al coche."
   ]
  },
  {
   "cell_type": "code",
   "execution_count": 10,
   "metadata": {},
   "outputs": [
    {
     "name": "stdout",
     "output_type": "stream",
     "text": [
      "La solución es: 3.49748708391334\n"
     ]
    }
   ],
   "source": [
    "t_suelo_OK = Sol_correcta(t_suelo)\n",
    "print(\"La solución es:\",t_suelo_OK)"
   ]
  },
  {
   "cell_type": "markdown",
   "metadata": {},
   "source": [
    "### Ecuaciones de movimiento del proyectil\n",
    "---\n",
    " Comenzamos con los datos iniciales del proyectil y definimos las ecuaciones."
   ]
  },
  {
   "cell_type": "code",
   "execution_count": 20,
   "metadata": {
    "tags": []
   },
   "outputs": [
    {
     "name": "stdout",
     "output_type": "stream",
     "text": [
      "Velocidad horizontal del proyectil:  38.49001794597505  m·s⁻¹\n",
      "Velocidad vertical del proyectil:  22.22222222222222  m·s⁻¹\n"
     ]
    }
   ],
   "source": [
    "# Datos iniciales\n",
    "x_proyectil_0 = 0     # m\n",
    "y_proyectil_0 = 0     # m\n",
    "v_proyectil   = 160/3.6  # m·s-1\n",
    "ang_lanzamiento = 30\n",
    "v_proyectil_x_0 = v_proyectil*math.cos(ang_lanzamiento*pi/180) \n",
    "v_proyectil_y_0 = v_proyectil*math.sin(ang_lanzamiento*pi/180)\n",
    "print('Velocidad horizontal del proyectil: ',v_proyectil_x_0,' m·s⁻¹')\n",
    "print('Velocidad vertical del proyectil: ',v_proyectil_y_0,' m·s⁻¹')"
   ]
  },
  {
   "cell_type": "code",
   "execution_count": 23,
   "metadata": {
    "tags": []
   },
   "outputs": [
    {
     "name": "stdout",
     "output_type": "stream",
     "text": [
      "Las ecuaciones de movimiento son:\n",
      "   x_proyectil =  38.490017945975*t  m\n",
      "   y_proyectil = -4.905*t**2 + 22.2222222222222*t  m\n",
      "\n",
      "Las ecuaciones de velocidad son:\n",
      "   v_proyectil_x = 38.49001794597505  m·s⁻¹\n",
      "   v_proyectil_y = 22.2222222222222 - 9.81*t  m·s⁻¹\n"
     ]
    }
   ],
   "source": [
    "# Ecuaciones de movimiento del Proyectil\n",
    "#    Posición\n",
    "x_proyectil = x_proyectil_0 + v_proyectil_x_0 * t\n",
    "y_proyectil = y_proyectil_0 + v_proyectil_y_0 * t - 1/2 * g * t**2\n",
    "#    Velocidad\n",
    "v_proyectil_x = v_proyectil_x_0\n",
    "v_proyectil_y = v_proyectil_y_0 - g * t\n",
    "\n",
    "print('Las ecuaciones de movimiento son:')\n",
    "print('   x_proyectil = ',x_proyectil,' m')\n",
    "print('   y_proyectil =',y_proyectil,' m')\n",
    "print('\\nLas ecuaciones de velocidad son:')\n",
    "print('   v_proyectil_x =',v_proyectil_x,' m·s⁻¹')\n",
    "print('   v_proyectil_y =',v_proyectil_y,' m·s⁻¹')"
   ]
  },
  {
   "cell_type": "markdown",
   "metadata": {},
   "source": [
    "Determinemos el lugar de intersección"
   ]
  },
  {
   "cell_type": "code",
   "execution_count": 12,
   "metadata": {},
   "outputs": [
    {
     "name": "stdout",
     "output_type": "stream",
     "text": [
      "Igualando las ecuaciones de altura: \n",
      "\n"
     ]
    },
    {
     "data": {
      "image/png": "[encoded data removed]",
      "text/latex": [
       "$\\displaystyle 60 - 4.905 t^{2} = - 4.905 t^{2} + 22.2222222222222 t$"
      ],
      "text/plain": [
       "            2            2                     \n",
       "60 - 4.905⋅t  = - 4.905⋅t  + 22.2222222222222⋅t"
      ]
     },
     "execution_count": 12,
     "metadata": {},
     "output_type": "execute_result"
    }
   ],
   "source": [
    "Interseccion= Eq(y_coche,y_proyectil);\n",
    "print('Igualando las ecuaciones de altura: \\n');\n",
    "Interseccion"
   ]
  },
  {
   "cell_type": "code",
   "execution_count": 13,
   "metadata": {
    "tags": []
   },
   "outputs": [
    {
     "name": "stdout",
     "output_type": "stream",
     "text": [
      "\n",
      "Las soluciones a su punto de encuentro son:  [2.70000000000000]\n"
     ]
    }
   ],
   "source": [
    "solucion=solve(Interseccion);\n",
    "print('\\nLas soluciones a su punto de encuentro son: ',solucion)"
   ]
  },
  {
   "cell_type": "markdown",
   "metadata": {},
   "source": [
    "Analicemos la solución:\n",
    "   * si es única será la correcta\n",
    "   * si es doble, nos quedaremos con la positiva\n",
    "   * Si es doble y ambas positivas, nos quedamos con al menor"
   ]
  },
  {
   "cell_type": "markdown",
   "metadata": {},
   "source": [
    "En consecuencia, el tiempo que tardan en encontrarse ambos cuerpos es:"
   ]
  },
  {
   "cell_type": "code",
   "execution_count": 14,
   "metadata": {},
   "outputs": [
    {
     "name": "stdout",
     "output_type": "stream",
     "text": [
      "La solución correcta es: 2.70000000000000\n"
     ]
    }
   ],
   "source": [
    "t_sol = Sol_correcta(solucion)\n",
    "print(\"La solución correcta es:\",t_sol)"
   ]
  },
  {
   "cell_type": "markdown",
   "metadata": {},
   "source": [
    "## Punto de encuentro\n",
    "---\n",
    "A partir del resultado anterior, es sencillo obtener los valores del punto de encuentro y las velocidades de impacto."
   ]
  },
  {
   "cell_type": "code",
   "execution_count": 15,
   "metadata": {},
   "outputs": [
    {
     "name": "stdout",
     "output_type": "stream",
     "text": [
      "Se encuentran en el punto ( 105.000000000000 24.2425500000000 ) m\n"
     ]
    }
   ],
   "source": [
    "x_impacto = x_coche.subs(t,t_sol)\n",
    "y_impacto = y_coche.subs(t,t_sol)\n",
    "\n",
    "print('Se encuentran en el punto (',x_impacto,y_impacto,') m')"
   ]
  },
  {
   "cell_type": "code",
   "execution_count": 17,
   "metadata": {},
   "outputs": [
    {
     "name": "stdout",
     "output_type": "stream",
     "text": [
      "Lo que corresponde a un valor de  47.0521715546939 m·s⁻¹\n",
      "La velocidad del coche es ( 38.888888888888886 -26.4870000000000 ) m·s⁻¹\n",
      "El coche está bajando.\n"
     ]
    }
   ],
   "source": [
    "v_coche_impacto_x = v_coche_x\n",
    "v_coche_impacto_y = v_coche_y.subs(t,t_sol)\n",
    "v_coche_impacto = math.sqrt(v_coche_impacto_x**2+v_coche_impacto_y**2)\n",
    "print('Lo que corresponde a un valor de ',v_coche_impacto,'m·s⁻¹')\n",
    "print('La velocidad del coche es (',v_coche_impacto_x,v_coche_impacto_y,') m·s⁻¹')\n",
    "if v_coche_impacto_y <0:\n",
    "    print('El coche está bajando.')\n",
    "else:\n",
    "    print('El coche está subiendo.')"
   ]
  },
  {
   "cell_type": "code",
   "execution_count": 18,
   "metadata": {},
   "outputs": [
    {
     "name": "stdout",
     "output_type": "stream",
     "text": [
      "Lo que corresponde a un valor de  38.725570505485244 m·s⁻¹\n",
      "La velocidad del coche es ( 38.49001794597505 -4.26477777777778 ) m·s⁻¹\n",
      "El proyectil está bajando.\n"
     ]
    }
   ],
   "source": [
    "v_proyectil_impacto_x = v_proyectil_x\n",
    "v_proyectil_impacto_y = v_proyectil_y.subs(t,t_sol)\n",
    "v_proyectil_impacto = math.sqrt(v_proyectil_impacto_x**2+v_proyectil_impacto_y**2)\n",
    "print('Lo que corresponde a un valor de ',v_proyectil_impacto,'m·s⁻¹')\n",
    "print('La velocidad del coche es (',v_proyectil_impacto_x,v_proyectil_impacto_y,') m·s⁻¹')\n",
    "if v_proyectil_impacto_y <0:\n",
    "    print('El proyectil está bajando.')\n",
    "else:\n",
    "    print('El proyectil está subiendo.')"
   ]
  },
  {
   "cell_type": "markdown",
   "metadata": {},
   "source": [
    "### Representación gráfica\n",
    "---\n",
    "A partir de las ecuaciones de movimiento se representan las trayectorias de los cuerpos y se verifica el resultado previamente obtenido."
   ]
  },
  {
   "cell_type": "code",
   "execution_count": 19,
   "metadata": {},
   "outputs": [
    {
     "data": {
      "text/plain": [
       "[<matplotlib.lines.Line2D at 0x7f2acfe723a0>]"
      ]
     },
     "execution_count": 19,
     "metadata": {},
     "output_type": "execute_result"
    },
    {
     "data": {
      "image/png": "[encoded data removed]",
      "text/plain": [
       "<Figure size 720x432 with 1 Axes>"
      ]
     },
     "metadata": {
      "needs_background": "light"
     },
     "output_type": "display_data"
    }
   ],
   "source": [
    "# Dibujando las ecuaciones\n",
    "t_lin=np.linspace(0,int(t_sol*1.2*1e3)/1e3,num=20)\n",
    "\n",
    "# Creamos el array y lo rellenamos de ceros\n",
    "y_caida_graf  = np.zeros(len(t_lin))\n",
    "y_subida_graf = np.zeros(len(t_lin))\n",
    "\n",
    "# Ahora rellenamos el array con los valores que le corresponden\n",
    "for  i in range(len(t_lin)):\n",
    "    y_caida_graf[i]  = y_coche.subs(t,t_lin[i])\n",
    "    y_subida_graf[i] = y_proyectil.subs(t,t_lin[i])\n",
    "\n",
    "# Ahora definimos el tamaño del gráfico a más grande\n",
    "plt.figure(figsize=(10,6))\n",
    "# y delimitamos la región a representar => np.int() is deprecate, utilizar int()\n",
    "plt.xlim(0,int(t_sol*1.2*1e3)/1e3)\n",
    "plt.ylim(0,65)\n",
    "\n",
    "# Introducimos leyendas\n",
    "plt.xlabel('t')\n",
    "plt.ylabel('y')\n",
    "\n",
    "# Representamos las funciones\n",
    "plt.plot(t_lin,y_caida_graf)\n",
    "plt.plot(t_lin,y_subida_graf)\n"
   ]
  }
 ],
 "metadata": {
  "kernelspec": {
   "display_name": "Python 3",
   "language": "python",
   "name": "python3"
  },
  "language_info": {
   "codemirror_mode": {
    "name": "ipython",
    "version": 3
   },
   "file_extension": ".py",
   "mimetype": "text/x-python",
   "name": "python",
   "nbconvert_exporter": "python",
   "pygments_lexer": "ipython3",
   "version": "3.8.3"
  }
 },
 "nbformat": 4,
 "nbformat_minor": 4
}
