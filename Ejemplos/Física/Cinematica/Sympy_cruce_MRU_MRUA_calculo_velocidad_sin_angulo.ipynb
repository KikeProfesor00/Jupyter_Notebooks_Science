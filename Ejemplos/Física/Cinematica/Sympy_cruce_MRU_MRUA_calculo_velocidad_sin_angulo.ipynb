{
 "cells": [
  {
   "cell_type": "markdown",
   "metadata": {},
   "source": [
    " # Interceptación de proyectil por otro proyectil. \n",
    " #Librería cinematica\n",
    "\n",
    "\n",
    "Versión a partir de los componentes de la velocidad, sin utilizar el ángulo de lanzamiento"
   ]
  },
  {
   "cell_type": "markdown",
   "metadata": {},
   "source": [
    "# Inicializando Sympy\n",
    "Este paquete carga sympy y lo prepara para trabajar.\n",
    "Es necesario para utilizar la \"t\" como parámetro"
   ]
  },
  {
   "cell_type": "code",
   "execution_count": 1,
   "metadata": {},
   "outputs": [
    {
     "name": "stdout",
     "output_type": "stream",
     "text": [
      "IPython console for SymPy 1.8 (Python 3.8.3-64-bit) (ground types: gmpy)\n",
      "\n",
      "These commands were executed:\n",
      ">>> from __future__ import division\n",
      ">>> from sympy import *\n",
      ">>> x, y, z, t = symbols('x y z t')\n",
      ">>> k, m, n = symbols('k m n', integer=True)\n",
      ">>> f, g, h = symbols('f g h', cls=Function)\n",
      ">>> init_printing()\n",
      "\n",
      "Documentation can be found at https://docs.sympy.org/1.8/\n",
      "\n",
      "------------------------------\n",
      "Biblioteca con las ecuaciones cinemáticas más importantes\n",
      "Se proporcionan las ecuaciones de movimiento y de velocidad en una lista\n",
      "MRU(x0,v0,t) ==>  (Ec pos, Ec vel)\n",
      "MRU_x(x0,v0,t) ==> (Ec pos)\n",
      "MRU_v(x0,v0,t) ==> (Ec vel)\n",
      "MRUA(x0,v0,a,t) ==>  (Ec pos, Ec vel)\n",
      "MRUA_x(x0,v0,a,t) ==>  (Ec pos)\n",
      "MRUA_v(x0,v0,a,t) ==>  (Ec vel)\n",
      "\n",
      "La siguiente función devuelve de estre las soluciones de una ecuación de segundo grado, la positiva, y si son dos, la menor de estas.\n",
      "Sol_correcta(s) ==>  Solución correcta\n"
     ]
    }
   ],
   "source": [
    "import cinematica as cine\n",
    "\n",
    "%matplotlib inline"
   ]
  },
  {
   "cell_type": "markdown",
   "metadata": {},
   "source": [
    "---\n",
    "Importamos las librerías correspondientes así como definimos una función que permite seleccionar la solución correcta entre las posibles."
   ]
  },
  {
   "cell_type": "code",
   "execution_count": 2,
   "metadata": {},
   "outputs": [],
   "source": [
    "# Comenzamos importando las funciones que vamos a utilizar:\n",
    "#   * gráfico interno a documento\n",
    "#   * importamos funciones de dibujo\n",
    "#   * importamos libreria de operaciones numéricas con arrays\n",
    "\n",
    "from ipywidgets import interactive, fixed\n",
    "from matplotlib import pyplot as plt\n",
    "import numpy as np\n",
    "import math"
   ]
  },
  {
   "cell_type": "markdown",
   "metadata": {},
   "source": [
    "***\n",
    "***\n",
    "# Enunciado\n",
    "***\n",
    "***\n",
    "\n",
    "Un vehículo que circula a 140 km·h⁻¹ llega al borde de un precipicio de 60 m de alto.\n",
    "\n",
    "Un segundo más tarde, un sistema inteligente de rastreo localiza el vehículo y lanza un proyectil con un ángulo de elevación de 30º.\n",
    "\n",
    "Si lo intercepta a una altura de 30 m, determina la velocidad de lanzamiento del proyectil y dónde y cuando se encuentran."
   ]
  },
  {
   "cell_type": "markdown",
   "metadata": {},
   "source": [
    "## Ecuaciones de movimiento del coche\n",
    "---\n",
    "Comenzamos indicando los datos iniciales del coche para poder obtener sus ecuaciones de movimiento."
   ]
  },
  {
   "cell_type": "code",
   "execution_count": 3,
   "metadata": {},
   "outputs": [],
   "source": [
    "# Datos iniciales\n",
    "x_coche_0 = 0         # m\n",
    "y_coche_0 = 60        # m\n",
    "v_coche_x_0 = 140 /3.6  # m·s-1\n",
    "v_coche_y_0 = 0       # m·s-1\n",
    "g = -9.81              # m·s-2\n",
    "\n",
    "# Condiciones de contorno finales\n",
    "y_coche_final = 30    # m"
   ]
  },
  {
   "cell_type": "code",
   "execution_count": 4,
   "metadata": {
    "tags": []
   },
   "outputs": [
    {
     "name": "stdout",
     "output_type": "stream",
     "text": [
      "Las ecuaciones de movimiento son:\n",
      "   x_coche =  38.8888888888889*t  m\n",
      "   y_coche = 60 - 4.905*t**2  m\n",
      "\n",
      "Las ecuaciones de velocidad son:\n",
      "   v_coche_x = 38.888888888888886  m·s⁻¹\n",
      "   v_coche_y = -9.81*t  m·s⁻¹\n"
     ]
    }
   ],
   "source": [
    "# Ecuaciones de movimiento del Coche\n",
    "#    Posición\n",
    "coche_horizontal = cine.MRU( x_coche_0 , v_coche_x_0 , t)\n",
    "coche_vertical = cine.MRUA(y_coche_0 , v_coche_y_0 , g , t)\n",
    "\n",
    "x_coche = coche_horizontal[0]\n",
    "y_coche = coche_vertical[0]\n",
    "#    Velocidad\n",
    "v_coche_x = coche_horizontal[1]\n",
    "v_coche_y = coche_vertical[1]\n",
    "# MRUA_(y_coche_0 , v_coche_y_0 , g , t)\n",
    "\n",
    "print('Las ecuaciones de movimiento son:')\n",
    "print('   x_coche = ',x_coche,' m')\n",
    "print('   y_coche =',y_coche,' m\\n')\n",
    "print('Las ecuaciones de velocidad son:')\n",
    "print('   v_coche_x =',v_coche_x,' m·s⁻¹')\n",
    "print('   v_coche_y =',v_coche_y,' m·s⁻¹')"
   ]
  },
  {
   "cell_type": "markdown",
   "metadata": {},
   "source": [
    "---\n",
    "Para comenzar es mejor determinar el tiempo máximo que tardaría el coche en llegar al suelo si no hubiera intersección.\n",
    "\n",
    "Para ello resolvemos la ecuación de movimiento donde la altura final es cero y obtendremos dos posible soluciones."
   ]
  },
  {
   "cell_type": "code",
   "execution_count": 5,
   "metadata": {},
   "outputs": [
    {
     "data": {
      "image/png": "[encoded data removed]",
      "text/latex": [
       "$\\displaystyle \\left[ -3.49748708391334, \\  3.49748708391334\\right]$"
      ],
      "text/plain": [
       "[-3.49748708391334, 3.49748708391334]"
      ]
     },
     "execution_count": 5,
     "metadata": {},
     "output_type": "execute_result"
    }
   ],
   "source": [
    "# Tiempo en llegar al suelo el coche sin impacto\n",
    "t_suelo = solve(Eq(y_coche,0))\n",
    "t_suelo"
   ]
  },
  {
   "cell_type": "markdown",
   "metadata": {},
   "source": [
    "De entre estas soluciones, nos quedaremos con la correcta. Esta nos indicará un valor máximo al tiempo en que el proyectil tiene que encontrar al coche."
   ]
  },
  {
   "cell_type": "code",
   "execution_count": 6,
   "metadata": {},
   "outputs": [
    {
     "name": "stdout",
     "output_type": "stream",
     "text": [
      "La solución es: 3.49748708391334\n"
     ]
    }
   ],
   "source": [
    "t_suelo_OK = cine.Sol_correcta(t_suelo)\n",
    "print(\"La solución es:\",t_suelo_OK)"
   ]
  },
  {
   "cell_type": "markdown",
   "metadata": {},
   "source": [
    "## Ecuaciones de movimiento del proyectil\n",
    "---\n",
    " Comenzamos con los datos iniciales del proyectil y definimos las ecuaciones."
   ]
  },
  {
   "cell_type": "code",
   "execution_count": 7,
   "metadata": {
    "tags": []
   },
   "outputs": [
    {
     "name": "stdout",
     "output_type": "stream",
     "text": [
      "Velocidad horizontal del proyectil:  v_proyectil*cos(alpha)  m·s⁻¹\n",
      "Velocidad vertical del proyectil:  v_proyectil*sin(alpha)  m·s⁻¹\n"
     ]
    }
   ],
   "source": [
    "# Datos iniciales\n",
    "x_proyectil_0 = 0     # m\n",
    "y_proyectil_0 = 0     # m\n",
    "v_proyectil   = 160/3.6  # m·s-1\n",
    "# ang_lanzamiento = 30\n",
    "\n",
    "v_proyectil = symbols('v_proyectil')\n",
    "ang_lanzamiento = symbols('alpha')   # en radianes\n",
    "# Proporciona error por el problema del cálculo no sympy de math.cos\n",
    "\n",
    "v_proyectil_x_0 = v_proyectil*cos(ang_lanzamiento) \n",
    "v_proyectil_y_0 = v_proyectil*sin(ang_lanzamiento)\n",
    "print('Velocidad horizontal del proyectil: ',v_proyectil_x_0,' m·s⁻¹')\n",
    "print('Velocidad vertical del proyectil: ',v_proyectil_y_0,' m·s⁻¹')"
   ]
  },
  {
   "cell_type": "code",
   "execution_count": 8,
   "metadata": {
    "tags": []
   },
   "outputs": [
    {
     "name": "stdout",
     "output_type": "stream",
     "text": [
      "Velocidad horizontal del proyectil:  v_x  m·s⁻¹\n",
      "Velocidad vertical del proyectil:  v_y  m·s⁻¹\n"
     ]
    }
   ],
   "source": [
    "# Datos iniciales\n",
    "x_proyectil_0 = 0     # m\n",
    "y_proyectil_0 = 0     # m\n",
    "v_proyectil   = 160/3.6  # m·s-1\n",
    "# ang_lanzamiento = 30\n",
    "\n",
    "# Trabajar con el ángulo proporciona errores en la resolución\n",
    "# trabajaremos pues con los catetos ya que la hipotenusa es la\n",
    "# velocidad. Recordar que los catetos\n",
    "# se relacionan por la hipotenusa (no utilizamos el ángulo)\n",
    "\n",
    "# v_proyectil = symbols('v_proyectil')\n",
    "# ang_lanzamiento = symbols('alpha')   # en radianes\n",
    "# Proporciona error por el problema del cálculo no sympy de math.cos\n",
    "\n",
    "# v_proyectil_x_0 = v_proyectil*cos(ang_lanzamiento) \n",
    "# v_proyectil_y_0 = v_proyectil*sin(ang_lanzamiento)\n",
    "\n",
    "v_proyectil_x_0 = symbols('v_x')\n",
    "v_proyectil_y_0= symbols('v_y')\n",
    "print('Velocidad horizontal del proyectil: ',v_proyectil_x_0,' m·s⁻¹')\n",
    "print('Velocidad vertical del proyectil: ',v_proyectil_y_0,' m·s⁻¹')"
   ]
  },
  {
   "cell_type": "code",
   "execution_count": 9,
   "metadata": {
    "tags": []
   },
   "outputs": [
    {
     "name": "stdout",
     "output_type": "stream",
     "text": [
      "Las ecuaciones de movimiento son:\n",
      "   x_proyectil =  t*v_x  m\n",
      "   y_proyectil = -4.905*t**2 + t*v_y  m\n",
      "\n",
      "Las ecuaciones de velocidad son:\n",
      "   v_proyectil_x = v_x  m·s⁻¹\n",
      "   v_proyectil_y = -9.81*t + v_y  m·s⁻¹\n"
     ]
    },
    {
     "data": {
      "image/png": "[encoded data removed]",
      "text/latex": [
       "$\\displaystyle \\left[ \\left( t v_{x}, \\  - 4.905 t^{2} + t v_{y}\\right), \\  \\left( v_{x}, \\  - 9.81 t + v_{y}\\right)\\right]$"
      ],
      "text/plain": [
       "⎡⎛               2        ⎞                     ⎤\n",
       "⎣⎝t⋅vₓ, - 4.905⋅t  + t⋅v_y⎠, (vₓ, -9.81⋅t + v_y)⎦"
      ]
     },
     "execution_count": 9,
     "metadata": {},
     "output_type": "execute_result"
    }
   ],
   "source": [
    "# Ecuaciones de movimiento del Proyectil\n",
    "#    Posición  Ahora hacemos uso de las ecuaciones directamente\n",
    "x_proyectil = cine.MRU_x(x_proyectil_0 , v_proyectil_x_0 , t)\n",
    "y_proyectil = cine.MRUA_x(y_proyectil_0 , v_proyectil_y_0 , g , t)\n",
    "#    Velocidad\n",
    "v_proyectil_x = cine.MRU_v(x_proyectil_0 , v_proyectil_x_0 , t)\n",
    "v_proyectil_y = cine.MRUA_v(y_proyectil_0 , v_proyectil_y_0 , g , t)\n",
    "\n",
    "print('Las ecuaciones de movimiento son:')\n",
    "print('   x_proyectil = ',x_proyectil,' m')\n",
    "print('   y_proyectil =',y_proyectil,' m')\n",
    "print('\\nLas ecuaciones de velocidad son:')\n",
    "print('   v_proyectil_x =',v_proyectil_x,' m·s⁻¹')\n",
    "print('   v_proyectil_y =',v_proyectil_y,' m·s⁻¹')\n",
    "[(x_proyectil,y_proyectil),(v_proyectil_x,v_proyectil_y)]"
   ]
  },
  {
   "cell_type": "markdown",
   "metadata": {},
   "source": [
    "## Condiciones de contorno\n",
    "---\n",
    "Determinemos el lugar de intersección. Para ello impongamos dos condiciones:"
   ]
  },
  {
   "cell_type": "markdown",
   "metadata": {},
   "source": [
    "   * Las posiciones horizontales de los cuerpos han de ser las mismas"
   ]
  },
  {
   "cell_type": "code",
   "execution_count": 10,
   "metadata": {},
   "outputs": [
    {
     "data": {
      "image/png": "[encoded data removed]",
      "text/latex": [
       "$\\displaystyle 38.8888888888889 t = t v_{x}$"
      ],
      "text/plain": [
       "38.8888888888889⋅t = t⋅vₓ"
      ]
     },
     "execution_count": 10,
     "metadata": {},
     "output_type": "execute_result"
    }
   ],
   "source": [
    "Interseccion_x = Eq(x_coche,x_proyectil)\n",
    "Interseccion_x"
   ]
  },
  {
   "cell_type": "markdown",
   "metadata": {},
   "source": [
    "* Las alturas de los cuerpos han de ser la misma"
   ]
  },
  {
   "cell_type": "code",
   "execution_count": 11,
   "metadata": {},
   "outputs": [
    {
     "data": {
      "image/png": "[encoded data removed]",
      "text/latex": [
       "$\\displaystyle 60 - 4.905 t^{2} = - 4.905 t^{2} + t v_{y}$"
      ],
      "text/plain": [
       "            2            2        \n",
       "60 - 4.905⋅t  = - 4.905⋅t  + t⋅v_y"
      ]
     },
     "execution_count": 11,
     "metadata": {},
     "output_type": "execute_result"
    }
   ],
   "source": [
    "Interseccion_y = Eq(y_coche,y_proyectil)\n",
    "Interseccion_y"
   ]
  },
  {
   "cell_type": "code",
   "execution_count": 12,
   "metadata": {},
   "outputs": [
    {
     "data": {
      "image/png": "[encoded data removed]",
      "text/latex": [
       "$\\displaystyle t \\left(- 4.905 t + v_{y}\\right) = 60 - 4.905 t^{2}$"
      ],
      "text/plain": [
       "                                 2\n",
       "t⋅(-4.905⋅t + v_y) = 60 - 4.905⋅t "
      ]
     },
     "execution_count": 12,
     "metadata": {},
     "output_type": "execute_result"
    }
   ],
   "source": [
    "simplify(Interseccion_y)"
   ]
  },
  {
   "cell_type": "markdown",
   "metadata": {},
   "source": [
    "   * La intersección se ha de conseguir a 30 metros de altura"
   ]
  },
  {
   "cell_type": "code",
   "execution_count": 13,
   "metadata": {},
   "outputs": [
    {
     "data": {
      "image/png": "[encoded data removed]",
      "text/latex": [
       "$\\displaystyle 60 - 4.905 t^{2} = 30$"
      ],
      "text/plain": [
       "            2     \n",
       "60 - 4.905⋅t  = 30"
      ]
     },
     "execution_count": 13,
     "metadata": {},
     "output_type": "execute_result"
    }
   ],
   "source": [
    "Condicion = Eq(y_coche,30)\n",
    "Condicion"
   ]
  },
  {
   "cell_type": "markdown",
   "metadata": {},
   "source": [
    "Resolvamos ahora el sistema de tres ecuaciones con tres incognitas: \n",
    "   * el tiempo,\n",
    "   * la velocidad de lanzamiento y\n",
    "   * el ángulo de lanzamiento"
   ]
  },
  {
   "cell_type": "code",
   "execution_count": 14,
   "metadata": {},
   "outputs": [
    {
     "data": {
      "image/png": "[encoded data removed]",
      "text/latex": [
       "$\\displaystyle \\left[ \\right]$"
      ],
      "text/plain": [
       "[]"
      ]
     },
     "execution_count": 14,
     "metadata": {},
     "output_type": "execute_result"
    }
   ],
   "source": [
    "# Versión para _angulo de lanzamiento\n",
    "# solve( [ Condicion , Interseccion_x , Interseccion_y   ] , [t, v_proyectil, ang_lanzamiento] )\n",
    "\n",
    "# Versión para componentes de la velocidad\n",
    "solve( [ Condicion , Interseccion_x , Interseccion_y   ] , [t, v_proyectil_x , v_proyectil_y ] )"
   ]
  },
  {
   "cell_type": "markdown",
   "metadata": {},
   "source": [
    "Determinamos el timepo de encuentro a partir de la condición de contorno de altura"
   ]
  },
  {
   "cell_type": "code",
   "execution_count": 42,
   "metadata": {},
   "outputs": [
    {
     "data": {
      "image/png": "[encoded data removed]",
      "text/latex": [
       "$\\displaystyle 2.47309683414749$"
      ],
      "text/plain": [
       "2.47309683414749"
      ]
     },
     "execution_count": 42,
     "metadata": {},
     "output_type": "execute_result"
    }
   ],
   "source": [
    "t_sol = cine.Sol_correcta(solve(Condicion))\n",
    "t_sol"
   ]
  },
  {
   "cell_type": "markdown",
   "metadata": {},
   "source": [
    "Y a partir de las intersecciones obtenemos las velocidades en cada uno de los ejes.\n",
    "   * Para el eje x"
   ]
  },
  {
   "cell_type": "code",
   "execution_count": 16,
   "metadata": {},
   "outputs": [
    {
     "data": {
      "image/png": "[encoded data removed]",
      "text/latex": [
       "$\\displaystyle 96.1759879946246 = 2.47309683414749 v_{x}$"
      ],
      "text/plain": [
       "96.1759879946246 = 2.47309683414749⋅vₓ"
      ]
     },
     "execution_count": 16,
     "metadata": {},
     "output_type": "execute_result"
    }
   ],
   "source": [
    "Interseccion_x_t = Interseccion_x.subs(t, t_sol)\n",
    "Interseccion_x_t"
   ]
  },
  {
   "cell_type": "code",
   "execution_count": 18,
   "metadata": {},
   "outputs": [
    {
     "data": {
      "image/png": "[encoded data removed]",
      "text/latex": [
       "$\\displaystyle 38.8888888888889$"
      ],
      "text/plain": [
       "38.8888888888889"
      ]
     },
     "execution_count": 18,
     "metadata": {},
     "output_type": "execute_result"
    }
   ],
   "source": [
    "v_x = solve(Interseccion_x_t)[0]\n",
    "v_x"
   ]
  },
  {
   "cell_type": "markdown",
   "metadata": {},
   "source": [
    "   * Para el eje y"
   ]
  },
  {
   "cell_type": "code",
   "execution_count": 17,
   "metadata": {},
   "outputs": [
    {
     "data": {
      "image/png": "[encoded data removed]",
      "text/latex": [
       "$\\displaystyle 30.0 = 2.47309683414749 v_{y} - 30.0$"
      ],
      "text/plain": [
       "30.0 = 2.47309683414749⋅v_y - 30.0"
      ]
     },
     "execution_count": 17,
     "metadata": {},
     "output_type": "execute_result"
    }
   ],
   "source": [
    "Interseccion_y_t = Interseccion_y.subs(t, t_sol)\n",
    "Interseccion_y_t"
   ]
  },
  {
   "cell_type": "code",
   "execution_count": 19,
   "metadata": {},
   "outputs": [
    {
     "data": {
      "image/png": "[encoded data removed]",
      "text/latex": [
       "$\\displaystyle 24.2610799429869$"
      ],
      "text/plain": [
       "24.2610799429869"
      ]
     },
     "execution_count": 19,
     "metadata": {},
     "output_type": "execute_result"
    }
   ],
   "source": [
    "# solve(Interseccion_y_t, v_proyectil_y)\n",
    "v_y = solve(Interseccion_y_t)[0]\n",
    "v_y"
   ]
  },
  {
   "cell_type": "markdown",
   "metadata": {},
   "source": [
    "Y el módulo de la velocidad nos indica su valor"
   ]
  },
  {
   "cell_type": "code",
   "execution_count": 30,
   "metadata": {},
   "outputs": [
    {
     "name": "stdout",
     "output_type": "stream",
     "text": [
      "La velocidad tiene un valor de v = 45.83607399213359 m·s-1\n"
     ]
    }
   ],
   "source": [
    "v_pro = cine.modulo(v_x,v_y)\n",
    "print('La velocidad tiene un valor de v =',v_pro,'m·s-1')"
   ]
  },
  {
   "cell_type": "markdown",
   "metadata": {},
   "source": [
    "Otras formas de resolver no proporcionan resultados interesantes."
   ]
  },
  {
   "cell_type": "code",
   "execution_count": 22,
   "metadata": {},
   "outputs": [
    {
     "data": {
      "image/png": "[encoded data removed]",
      "text/latex": [
       "$\\displaystyle \\left\\{ v_{x} : 38.8888888888889\\right\\}$"
      ],
      "text/plain": [
       "{vₓ: 38.8888888888889}"
      ]
     },
     "execution_count": 22,
     "metadata": {},
     "output_type": "execute_result"
    }
   ],
   "source": [
    "# solve( [ Condicion , Interseccion_x , Interseccion_y   ] , [t, v_proyectil, ang_lanzamiento] )\n",
    "solve( [  Interseccion_x_t , Interseccion_y_t   ] , [ v_proyectil_x , v_proyectil_y ] )"
   ]
  },
  {
   "cell_type": "markdown",
   "metadata": {},
   "source": [
    "Recapitulando, ya conocemos:"
   ]
  },
  {
   "cell_type": "code",
   "execution_count": 31,
   "metadata": {},
   "outputs": [
    {
     "name": "stdout",
     "output_type": "stream",
     "text": [
      "El timempo en encontrarse: t = 2.47309683414749 s\n",
      "La componente x de la velocidad, v_x = 38.8888888888889 m·s-1\n",
      "La componente y de la velocidad, v_y = 24.2610799429869 m·s-1\n",
      "El módilo de la velocidad, v = 45.83607399213359 m·s-1\n"
     ]
    }
   ],
   "source": [
    "print ('El timempo en encontrarse: t =',t_sol,'s')\n",
    "print ('La componente x de la velocidad, v_x =',v_x,'m·s-1')\n",
    "print ('La componente y de la velocidad, v_y =',v_y,'m·s-1')\n",
    "print ('El módilo de la velocidad, v =',v_pro,'m·s-1')"
   ]
  },
  {
   "cell_type": "code",
   "execution_count": 32,
   "metadata": {},
   "outputs": [
    {
     "data": {
      "image/png": "[encoded data removed]",
      "text/latex": [
       "$\\displaystyle \\left( 2.47309683414749, \\  45.8360739921336\\right)$"
      ],
      "text/plain": [
       "(2.47309683414749, 45.83607399213359)"
      ]
     },
     "execution_count": 32,
     "metadata": {},
     "output_type": "execute_result"
    }
   ],
   "source": [
    "t_sol, v_pro"
   ]
  },
  {
   "cell_type": "code",
   "execution_count": 37,
   "metadata": {},
   "outputs": [
    {
     "data": {
      "image/png": "[encoded data removed]",
      "text/latex": [
       "$\\displaystyle 38.8888888888889 t$"
      ],
      "text/plain": [
       "38.8888888888889⋅t"
      ]
     },
     "execution_count": 37,
     "metadata": {},
     "output_type": "execute_result"
    }
   ],
   "source": [
    "x_coche"
   ]
  },
  {
   "cell_type": "code",
   "execution_count": 33,
   "metadata": {},
   "outputs": [
    {
     "data": {
      "image/png": "[encoded data removed]",
      "text/latex": [
       "$\\displaystyle 96.1759879946246$"
      ],
      "text/plain": [
       "96.1759879946246"
      ]
     },
     "execution_count": 33,
     "metadata": {},
     "output_type": "execute_result"
    }
   ],
   "source": [
    "x_impacto=x_coche.subs(t,t_sol )\n",
    "x_impacto"
   ]
  },
  {
   "cell_type": "code",
   "execution_count": 34,
   "metadata": {},
   "outputs": [
    {
     "data": {
      "image/png": "[encoded data removed]",
      "text/latex": [
       "$\\displaystyle t v_{x}$"
      ],
      "text/plain": [
       "t⋅vₓ"
      ]
     },
     "execution_count": 34,
     "metadata": {},
     "output_type": "execute_result"
    }
   ],
   "source": [
    "x_proyectil"
   ]
  },
  {
   "cell_type": "code",
   "execution_count": 38,
   "metadata": {},
   "outputs": [
    {
     "data": {
      "image/png": "[encoded data removed]",
      "text/latex": [
       "$\\displaystyle 96.1759879946246$"
      ],
      "text/plain": [
       "96.1759879946246"
      ]
     },
     "execution_count": 38,
     "metadata": {},
     "output_type": "execute_result"
    }
   ],
   "source": [
    "x_pro=x_proyectil.subs( {t: t_sol, v_proyectil_x: v_x })\n",
    "x_pro"
   ]
  },
  {
   "cell_type": "code",
   "execution_count": 39,
   "metadata": {},
   "outputs": [
    {
     "name": "stdout",
     "output_type": "stream",
     "text": [
      "Igualando las ecuaciones de altura: \n",
      "\n"
     ]
    },
    {
     "data": {
      "image/png": "[encoded data removed]",
      "text/latex": [
       "$\\displaystyle 60 - 4.905 t^{2} = - 4.905 t^{2} + t v_{y}$"
      ],
      "text/plain": [
       "            2            2        \n",
       "60 - 4.905⋅t  = - 4.905⋅t  + t⋅v_y"
      ]
     },
     "execution_count": 39,
     "metadata": {},
     "output_type": "execute_result"
    }
   ],
   "source": [
    "Interseccion= Eq(y_coche,y_proyectil);\n",
    "print('Igualando las ecuaciones de altura: \\n');\n",
    "Interseccion"
   ]
  },
  {
   "cell_type": "code",
   "execution_count": 40,
   "metadata": {
    "tags": []
   },
   "outputs": [
    {
     "name": "stdout",
     "output_type": "stream",
     "text": [
      "\n",
      "Las soluciones a su punto de encuentro son:  [{t: 60.0/v_y}]\n"
     ]
    }
   ],
   "source": [
    "solucion=solve(Interseccion);\n",
    "print('\\nLas soluciones a su punto de encuentro son: ',solucion)"
   ]
  },
  {
   "cell_type": "markdown",
   "metadata": {},
   "source": [
    "Analicemos la solución:\n",
    "   * si es única será la correcta\n",
    "   * si es doble, nos quedaremos con la positiva\n",
    "   * Si es doble y ambas positivas, nos quedamos con al menor"
   ]
  },
  {
   "cell_type": "markdown",
   "metadata": {},
   "source": [
    "En consecuencia, el tiempo que tardan en encontrarse ambos cuerpos es:"
   ]
  },
  {
   "cell_type": "code",
   "execution_count": 41,
   "metadata": {},
   "outputs": [
    {
     "name": "stdout",
     "output_type": "stream",
     "text": [
      "La solución correcta es: {t: 60.0/v_y}\n"
     ]
    }
   ],
   "source": [
    "t_sol = cine.Sol_correcta(solucion)\n",
    "print(\"La solución correcta es:\",t_sol)"
   ]
  },
  {
   "cell_type": "markdown",
   "metadata": {},
   "source": [
    "## Punto de encuentro\n",
    "---\n",
    "A partir del resultado anterior, es sencillo obtener los valores del punto de encuentro y las velocidades de impacto."
   ]
  },
  {
   "cell_type": "code",
   "execution_count": 43,
   "metadata": {},
   "outputs": [
    {
     "name": "stdout",
     "output_type": "stream",
     "text": [
      "Se encuentran en el punto ( 96.1759879946246 30.0000000000000 ) m\n"
     ]
    }
   ],
   "source": [
    "x_impacto = x_coche.subs(t,t_sol)\n",
    "y_impacto = y_coche.subs(t,t_sol)\n",
    "\n",
    "print('Se encuentran en el punto (',x_impacto,y_impacto,') m')"
   ]
  },
  {
   "cell_type": "code",
   "execution_count": 44,
   "metadata": {},
   "outputs": [
    {
     "name": "stdout",
     "output_type": "stream",
     "text": [
      "Lo que corresponde a un valor de  45.83607399213359 m·s⁻¹\n",
      "La velocidad del coche es ( 38.888888888888886 -24.2610799429869 ) m·s⁻¹\n",
      "El coche está bajando.\n"
     ]
    }
   ],
   "source": [
    "v_coche_impacto_x = v_coche_x\n",
    "v_coche_impacto_y = v_coche_y.subs(t,t_sol)\n",
    "v_coche_impacto = math.sqrt(v_coche_impacto_x**2+v_coche_impacto_y**2)\n",
    "print('Lo que corresponde a un valor de ',v_coche_impacto,'m·s⁻¹')\n",
    "print('La velocidad del coche es (',v_coche_impacto_x,v_coche_impacto_y,') m·s⁻¹')\n",
    "if v_coche_impacto_y <0:\n",
    "    print('El coche está bajando.')\n",
    "else:\n",
    "    print('El coche está subiendo.')"
   ]
  },
  {
   "cell_type": "code",
   "execution_count": 45,
   "metadata": {},
   "outputs": [
    {
     "ename": "TypeError",
     "evalue": "can't convert expression to float",
     "output_type": "error",
     "traceback": [
      "\u001b[0;31m---------------------------------------------------------------------------\u001b[0m",
      "\u001b[0;31mTypeError\u001b[0m                                 Traceback (most recent call last)",
      "\u001b[0;32m<ipython-input-45-f2971b0edd05>\u001b[0m in \u001b[0;36m<module>\u001b[0;34m\u001b[0m\n\u001b[1;32m      1\u001b[0m \u001b[0mv_proyectil_impacto_x\u001b[0m \u001b[0;34m=\u001b[0m \u001b[0mv_proyectil_x\u001b[0m\u001b[0;34m.\u001b[0m\u001b[0msubs\u001b[0m\u001b[0;34m(\u001b[0m\u001b[0mt\u001b[0m\u001b[0;34m,\u001b[0m\u001b[0mt_sol\u001b[0m\u001b[0;34m)\u001b[0m\u001b[0;34m\u001b[0m\u001b[0;34m\u001b[0m\u001b[0m\n\u001b[1;32m      2\u001b[0m \u001b[0mv_proyectil_impacto_y\u001b[0m \u001b[0;34m=\u001b[0m \u001b[0mv_proyectil_y\u001b[0m\u001b[0;34m.\u001b[0m\u001b[0msubs\u001b[0m\u001b[0;34m(\u001b[0m\u001b[0mt\u001b[0m\u001b[0;34m,\u001b[0m\u001b[0mt_sol\u001b[0m\u001b[0;34m)\u001b[0m\u001b[0;34m\u001b[0m\u001b[0;34m\u001b[0m\u001b[0m\n\u001b[0;32m----> 3\u001b[0;31m \u001b[0mv_proyectil_impacto\u001b[0m \u001b[0;34m=\u001b[0m \u001b[0mmath\u001b[0m\u001b[0;34m.\u001b[0m\u001b[0msqrt\u001b[0m\u001b[0;34m(\u001b[0m\u001b[0mv_proyectil_impacto_x\u001b[0m\u001b[0;34m**\u001b[0m\u001b[0;36m2\u001b[0m\u001b[0;34m+\u001b[0m\u001b[0mv_proyectil_impacto_y\u001b[0m\u001b[0;34m**\u001b[0m\u001b[0;36m2\u001b[0m\u001b[0;34m)\u001b[0m\u001b[0;34m\u001b[0m\u001b[0;34m\u001b[0m\u001b[0m\n\u001b[0m\u001b[1;32m      4\u001b[0m \u001b[0mprint\u001b[0m\u001b[0;34m(\u001b[0m\u001b[0;34m'Lo que corresponde a un valor de '\u001b[0m\u001b[0;34m,\u001b[0m\u001b[0mv_proyectil_impacto\u001b[0m\u001b[0;34m,\u001b[0m\u001b[0;34m'm·s⁻¹'\u001b[0m\u001b[0;34m)\u001b[0m\u001b[0;34m\u001b[0m\u001b[0;34m\u001b[0m\u001b[0m\n\u001b[1;32m      5\u001b[0m \u001b[0mprint\u001b[0m\u001b[0;34m(\u001b[0m\u001b[0;34m'La velocidad del coche es ('\u001b[0m\u001b[0;34m,\u001b[0m\u001b[0mv_proyectil_impacto_x\u001b[0m\u001b[0;34m,\u001b[0m\u001b[0mv_proyectil_impacto_y\u001b[0m\u001b[0;34m,\u001b[0m\u001b[0;34m') m·s⁻¹'\u001b[0m\u001b[0;34m)\u001b[0m\u001b[0;34m\u001b[0m\u001b[0;34m\u001b[0m\u001b[0m\n",
      "\u001b[0;32m~/anaconda3/lib/python3.8/site-packages/sympy/core/expr.py\u001b[0m in \u001b[0;36m__float__\u001b[0;34m(self)\u001b[0m\n\u001b[1;32m    356\u001b[0m         \u001b[0;32mif\u001b[0m \u001b[0mresult\u001b[0m\u001b[0;34m.\u001b[0m\u001b[0mis_number\u001b[0m \u001b[0;32mand\u001b[0m \u001b[0mresult\u001b[0m\u001b[0;34m.\u001b[0m\u001b[0mas_real_imag\u001b[0m\u001b[0;34m(\u001b[0m\u001b[0;34m)\u001b[0m\u001b[0;34m[\u001b[0m\u001b[0;36m1\u001b[0m\u001b[0;34m]\u001b[0m\u001b[0;34m:\u001b[0m\u001b[0;34m\u001b[0m\u001b[0;34m\u001b[0m\u001b[0m\n\u001b[1;32m    357\u001b[0m             \u001b[0;32mraise\u001b[0m \u001b[0mTypeError\u001b[0m\u001b[0;34m(\u001b[0m\u001b[0;34m\"can't convert complex to float\"\u001b[0m\u001b[0;34m)\u001b[0m\u001b[0;34m\u001b[0m\u001b[0;34m\u001b[0m\u001b[0m\n\u001b[0;32m--> 358\u001b[0;31m         \u001b[0;32mraise\u001b[0m \u001b[0mTypeError\u001b[0m\u001b[0;34m(\u001b[0m\u001b[0;34m\"can't convert expression to float\"\u001b[0m\u001b[0;34m)\u001b[0m\u001b[0;34m\u001b[0m\u001b[0;34m\u001b[0m\u001b[0m\n\u001b[0m\u001b[1;32m    359\u001b[0m \u001b[0;34m\u001b[0m\u001b[0m\n\u001b[1;32m    360\u001b[0m     \u001b[0;32mdef\u001b[0m \u001b[0m__complex__\u001b[0m\u001b[0;34m(\u001b[0m\u001b[0mself\u001b[0m\u001b[0;34m)\u001b[0m\u001b[0;34m:\u001b[0m\u001b[0;34m\u001b[0m\u001b[0;34m\u001b[0m\u001b[0m\n",
      "\u001b[0;31mTypeError\u001b[0m: can't convert expression to float"
     ]
    }
   ],
   "source": [
    "v_proyectil_impacto_x = v_proyectil_x.subs(t,t_sol)\n",
    "v_proyectil_impacto_y = v_proyectil_y.subs(t,t_sol)\n",
    "v_proyectil_impacto = math.sqrt(v_proyectil_impacto_x**2+v_proyectil_impacto_y**2)\n",
    "print('Lo que corresponde a un valor de ',v_proyectil_impacto,'m·s⁻¹')\n",
    "print('La velocidad del coche es (',v_proyectil_impacto_x,v_proyectil_impacto_y,') m·s⁻¹')\n",
    "if v_proyectil_impacto_y <0:\n",
    "    print('El proyectil está bajando.')\n",
    "else:\n",
    "    print('El proyectil está subiendo.')"
   ]
  },
  {
   "cell_type": "markdown",
   "metadata": {},
   "source": [
    "### Representación gráfica\n",
    "---\n",
    "A partir de las ecuaciones de movimiento se representan las trayectorias de los cuerpos y se verifica el resultado previamente obtenido."
   ]
  },
  {
   "cell_type": "code",
   "execution_count": 46,
   "metadata": {},
   "outputs": [
    {
     "ename": "TypeError",
     "evalue": "can't convert expression to float",
     "output_type": "error",
     "traceback": [
      "\u001b[0;31m---------------------------------------------------------------------------\u001b[0m",
      "\u001b[0;31mTypeError\u001b[0m                                 Traceback (most recent call last)",
      "\u001b[0;32m<ipython-input-46-14d6f7b30b67>\u001b[0m in \u001b[0;36m<module>\u001b[0;34m\u001b[0m\n\u001b[1;32m      9\u001b[0m \u001b[0;32mfor\u001b[0m  \u001b[0mi\u001b[0m \u001b[0;32min\u001b[0m \u001b[0mrange\u001b[0m\u001b[0;34m(\u001b[0m\u001b[0mlen\u001b[0m\u001b[0;34m(\u001b[0m\u001b[0mt_lin\u001b[0m\u001b[0;34m)\u001b[0m\u001b[0;34m)\u001b[0m\u001b[0;34m:\u001b[0m\u001b[0;34m\u001b[0m\u001b[0;34m\u001b[0m\u001b[0m\n\u001b[1;32m     10\u001b[0m     \u001b[0my_caida_graf\u001b[0m\u001b[0;34m[\u001b[0m\u001b[0mi\u001b[0m\u001b[0;34m]\u001b[0m  \u001b[0;34m=\u001b[0m \u001b[0my_coche\u001b[0m\u001b[0;34m.\u001b[0m\u001b[0msubs\u001b[0m\u001b[0;34m(\u001b[0m\u001b[0mt\u001b[0m\u001b[0;34m,\u001b[0m\u001b[0mt_lin\u001b[0m\u001b[0;34m[\u001b[0m\u001b[0mi\u001b[0m\u001b[0;34m]\u001b[0m\u001b[0;34m)\u001b[0m\u001b[0;34m\u001b[0m\u001b[0;34m\u001b[0m\u001b[0m\n\u001b[0;32m---> 11\u001b[0;31m     \u001b[0my_subida_graf\u001b[0m\u001b[0;34m[\u001b[0m\u001b[0mi\u001b[0m\u001b[0;34m]\u001b[0m \u001b[0;34m=\u001b[0m \u001b[0my_proyectil\u001b[0m\u001b[0;34m.\u001b[0m\u001b[0msubs\u001b[0m\u001b[0;34m(\u001b[0m\u001b[0mt\u001b[0m\u001b[0;34m,\u001b[0m\u001b[0mt_lin\u001b[0m\u001b[0;34m[\u001b[0m\u001b[0mi\u001b[0m\u001b[0;34m]\u001b[0m\u001b[0;34m)\u001b[0m\u001b[0;34m\u001b[0m\u001b[0;34m\u001b[0m\u001b[0m\n\u001b[0m\u001b[1;32m     12\u001b[0m \u001b[0;34m\u001b[0m\u001b[0m\n\u001b[1;32m     13\u001b[0m \u001b[0;31m# Ahora definimos el tamaño del gráfico a más grande\u001b[0m\u001b[0;34m\u001b[0m\u001b[0;34m\u001b[0m\u001b[0;34m\u001b[0m\u001b[0m\n",
      "\u001b[0;32m~/anaconda3/lib/python3.8/site-packages/sympy/core/expr.py\u001b[0m in \u001b[0;36m__float__\u001b[0;34m(self)\u001b[0m\n\u001b[1;32m    356\u001b[0m         \u001b[0;32mif\u001b[0m \u001b[0mresult\u001b[0m\u001b[0;34m.\u001b[0m\u001b[0mis_number\u001b[0m \u001b[0;32mand\u001b[0m \u001b[0mresult\u001b[0m\u001b[0;34m.\u001b[0m\u001b[0mas_real_imag\u001b[0m\u001b[0;34m(\u001b[0m\u001b[0;34m)\u001b[0m\u001b[0;34m[\u001b[0m\u001b[0;36m1\u001b[0m\u001b[0;34m]\u001b[0m\u001b[0;34m:\u001b[0m\u001b[0;34m\u001b[0m\u001b[0;34m\u001b[0m\u001b[0m\n\u001b[1;32m    357\u001b[0m             \u001b[0;32mraise\u001b[0m \u001b[0mTypeError\u001b[0m\u001b[0;34m(\u001b[0m\u001b[0;34m\"can't convert complex to float\"\u001b[0m\u001b[0;34m)\u001b[0m\u001b[0;34m\u001b[0m\u001b[0;34m\u001b[0m\u001b[0m\n\u001b[0;32m--> 358\u001b[0;31m         \u001b[0;32mraise\u001b[0m \u001b[0mTypeError\u001b[0m\u001b[0;34m(\u001b[0m\u001b[0;34m\"can't convert expression to float\"\u001b[0m\u001b[0;34m)\u001b[0m\u001b[0;34m\u001b[0m\u001b[0;34m\u001b[0m\u001b[0m\n\u001b[0m\u001b[1;32m    359\u001b[0m \u001b[0;34m\u001b[0m\u001b[0m\n\u001b[1;32m    360\u001b[0m     \u001b[0;32mdef\u001b[0m \u001b[0m__complex__\u001b[0m\u001b[0;34m(\u001b[0m\u001b[0mself\u001b[0m\u001b[0;34m)\u001b[0m\u001b[0;34m:\u001b[0m\u001b[0;34m\u001b[0m\u001b[0;34m\u001b[0m\u001b[0m\n",
      "\u001b[0;31mTypeError\u001b[0m: can't convert expression to float"
     ]
    }
   ],
   "source": [
    "# Dibujando las ecuaciones\n",
    "t_lin=np.linspace(0,int(t_sol*1.2*1e3)/1e3,num=20)\n",
    "\n",
    "# Creamos el array y lo rellenamos de ceros\n",
    "y_caida_graf  = np.zeros(len(t_lin))\n",
    "y_subida_graf = np.zeros(len(t_lin))\n",
    "\n",
    "# Ahora rellenamos el array con los valores que le corresponden\n",
    "for  i in range(len(t_lin)):\n",
    "    y_caida_graf[i]  = y_coche.subs(t,t_lin[i])\n",
    "    y_subida_graf[i] = y_proyectil.subs(t,t_lin[i])\n",
    "\n",
    "# Ahora definimos el tamaño del gráfico a más grande\n",
    "plt.figure(figsize=(10,6))\n",
    "# y delimitamos la región a representar => np.int() is deprecate, utilizar int()\n",
    "plt.xlim(0,int(t_sol*1.2*1e3)/1e3)\n",
    "plt.ylim(0,65)\n",
    "\n",
    "# Introducimos leyendas\n",
    "plt.xlabel('t')\n",
    "plt.ylabel('y')\n",
    "\n",
    "# Representamos las funciones\n",
    "plt.plot(t_lin,y_caida_graf)\n",
    "plt.plot(t_lin,y_subida_graf)\n"
   ]
  }
 ],
 "metadata": {
  "kernelspec": {
   "display_name": "Python 3",
   "language": "python",
   "name": "python3"
  },
  "language_info": {
   "codemirror_mode": {
    "name": "ipython",
    "version": 3
   },
   "file_extension": ".py",
   "mimetype": "text/x-python",
   "name": "python",
   "nbconvert_exporter": "python",
   "pygments_lexer": "ipython3",
   "version": "3.8.3"
  },
  "toc-autonumbering": true,
  "toc-showcode": false,
  "toc-showmarkdowntxt": false
 },
 "nbformat": 4,
 "nbformat_minor": 4
}
