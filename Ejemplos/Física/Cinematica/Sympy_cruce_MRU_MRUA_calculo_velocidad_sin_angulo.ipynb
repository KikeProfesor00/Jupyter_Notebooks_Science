{
 "cells": [
  {
   "cell_type": "markdown",
   "metadata": {},
   "source": [
    " # Interceptación de proyectil por otro proyectil. \n",
    " #Librería cinematica\n",
    "\n",
    "\n",
    "Versión a partir de los componentes de la velocidad (v_x y v_y), sin utilizar el ángulo de lanzamiento"
   ]
  },
  {
   "cell_type": "markdown",
   "metadata": {},
   "source": [
    "# Inicializando Sympy\n",
    "Este paquete carga sympy y lo prepara para trabajar.\n",
    "Es necesario para utilizar la \"t\" como parámetro"
   ]
  },
  {
   "cell_type": "code",
   "execution_count": 1,
   "metadata": {
    "jupyter": {
     "source_hidden": true
    }
   },
   "outputs": [
    {
     "name": "stdout",
     "output_type": "stream",
     "text": [
      "IPython console for SymPy 1.8 (Python 3.8.3-64-bit) (ground types: gmpy)\n",
      "\n",
      "These commands were executed:\n",
      ">>> from __future__ import division\n",
      ">>> from sympy import *\n",
      ">>> x, y, z, t = symbols('x y z t')\n",
      ">>> k, m, n = symbols('k m n', integer=True)\n",
      ">>> f, g, h = symbols('f g h', cls=Function)\n",
      ">>> init_printing()\n",
      "\n",
      "Documentation can be found at https://docs.sympy.org/1.8/\n",
      "\n",
      "------------------------------\n",
      "Biblioteca con las ecuaciones cinemáticas más importantes\n",
      "Se proporcionan las ecuaciones de movimiento y de velocidad en una lista\n",
      "MRU(x0,v0,t) ==>  (Ec pos, Ec vel)\n",
      "MRU_x(x0,v0,t) ==> (Ec pos)\n",
      "MRU_v(x0,v0,t) ==> (Ec vel)\n",
      "MRUA(x0,v0,a,t) ==>  (Ec pos, Ec vel)\n",
      "MRUA_x(x0,v0,a,t) ==>  (Ec pos)\n",
      "MRUA_v(x0,v0,a,t) ==>  (Ec vel)\n",
      "\n",
      "La siguiente función devuelve de estre las soluciones de una ecuación de segundo grado, la positiva, y si son dos, la menor de estas.\n",
      "Sol_correcta(s) ==>  Solución correcta\n"
     ]
    }
   ],
   "source": [
    "import cinematica as cine\n",
    "\n",
    "%matplotlib inline"
   ]
  },
  {
   "cell_type": "markdown",
   "metadata": {},
   "source": [
    "---\n",
    "Importamos las librerías correspondientes así como definimos una función que permite seleccionar la solución correcta entre las posibles."
   ]
  },
  {
   "cell_type": "code",
   "execution_count": 2,
   "metadata": {
    "jupyter": {
     "source_hidden": true
    },
    "tags": []
   },
   "outputs": [],
   "source": [
    "# Comenzamos importando las funciones que vamos a utilizar:\n",
    "#   * gráfico interno a documento\n",
    "#   * importamos funciones de dibujo\n",
    "#   * importamos libreria de operaciones numéricas con arrays\n",
    "\n",
    "from ipywidgets import interactive, fixed\n",
    "from matplotlib import pyplot as plt\n",
    "import numpy as np\n",
    "import math"
   ]
  },
  {
   "cell_type": "markdown",
   "metadata": {},
   "source": [
    "***\n",
    "***\n",
    "# Enunciado\n",
    "***\n",
    "***\n",
    "\n",
    "Un vehículo que circula a 140 km·h⁻¹ llega al borde de un precipicio de 60 m de alto.\n",
    "\n",
    "Simultanea a la caida, un sistema inteligente de rastreo localiza el vehículo y lanza un proyectil con un ángulo de elevación de desconocido.\n",
    "\n",
    "Si lo intercepta a una altura de 25 m, determina la velocidad de lanzamiento del proyectil (módulo y ángulo) y dónde y cuando se encuentran."
   ]
  },
  {
   "cell_type": "markdown",
   "metadata": {},
   "source": [
    "## Ecuaciones de movimiento del coche\n",
    "---\n",
    "Comenzamos indicando la condición de contorno final que es común a ambos cuerpos:"
   ]
  },
  {
   "cell_type": "code",
   "execution_count": 3,
   "metadata": {
    "tags": []
   },
   "outputs": [],
   "source": [
    "# Condiciones de contorno finales\n",
    "y_final = 25    # m"
   ]
  },
  {
   "cell_type": "markdown",
   "metadata": {},
   "source": [
    "Así como las condiciones iniciales del coche para poder obtener sus ecuaciones de movimiento."
   ]
  },
  {
   "cell_type": "code",
   "execution_count": 4,
   "metadata": {
    "tags": []
   },
   "outputs": [],
   "source": [
    "# Datos iniciales\n",
    "x_coche_0 = 0         # m\n",
    "y_coche_0 = 60        # m\n",
    "v_coche_x_0 = 140 /3.6  # m·s-1\n",
    "v_coche_y_0 = 0       # m·s-1\n",
    "g = -9.81              # m·s-2"
   ]
  },
  {
   "cell_type": "code",
   "execution_count": 5,
   "metadata": {
    "jupyter": {
     "source_hidden": true
    },
    "tags": []
   },
   "outputs": [
    {
     "name": "stdout",
     "output_type": "stream",
     "text": [
      "Las ecuaciones de movimiento son:\n",
      "   x_coche =  38.8888888888889*t  m\n",
      "   y_coche = 60 - 4.905*t**2  m\n",
      "\n",
      "Las ecuaciones de velocidad son:\n",
      "   v_coche_x = 38.888888888888886  m·s⁻¹\n",
      "   v_coche_y = -9.81*t  m·s⁻¹\n"
     ]
    }
   ],
   "source": [
    "# Ecuaciones de movimiento del Coche\n",
    "#    Posición\n",
    "coche_horizontal = cine.MRU( x_coche_0 , v_coche_x_0 , t)\n",
    "coche_vertical = cine.MRUA(y_coche_0 , v_coche_y_0 , g , t)\n",
    "\n",
    "x_coche = coche_horizontal[0]\n",
    "y_coche = coche_vertical[0]\n",
    "#    Velocidad\n",
    "v_coche_x = coche_horizontal[1]\n",
    "v_coche_y = coche_vertical[1]\n",
    "# MRUA_(y_coche_0 , v_coche_y_0 , g , t)\n",
    "\n",
    "print('Las ecuaciones de movimiento son:')\n",
    "print('   x_coche = ',x_coche,' m')\n",
    "print('   y_coche =',y_coche,' m\\n')\n",
    "print('Las ecuaciones de velocidad son:')\n",
    "print('   v_coche_x =',v_coche_x,' m·s⁻¹')\n",
    "print('   v_coche_y =',v_coche_y,' m·s⁻¹')"
   ]
  },
  {
   "cell_type": "markdown",
   "metadata": {},
   "source": [
    "---\n",
    "Para comenzar es mejor determinar el tiempo máximo que tardaría el coche en llegar al suelo si no hubiera intersección.\n",
    "\n",
    "Para ello resolvemos la ecuación de movimiento donde la altura final es cero y obtendremos dos posible soluciones."
   ]
  },
  {
   "cell_type": "code",
   "execution_count": 6,
   "metadata": {
    "jupyter": {
     "source_hidden": true
    },
    "tags": []
   },
   "outputs": [
    {
     "data": {
      "image/png": "[encoded data removed]",
      "text/latex": [
       "$\\displaystyle \\left( 60 - 4.905 t^{2} = 0, \\  \\left[ -3.49748708391334, \\  3.49748708391334\\right]\\right)$"
      ],
      "text/plain": [
       "⎛            2                                           ⎞\n",
       "⎝60 - 4.905⋅t  = 0, [-3.49748708391334, 3.49748708391334]⎠"
      ]
     },
     "execution_count": 6,
     "metadata": {},
     "output_type": "execute_result"
    }
   ],
   "source": [
    "# Tiempo en llegar al suelo el coche sin impacto\n",
    "t_suelo = solve(Eq(y_coche,0))\n",
    "Eq(y_coche,0) , t_suelo"
   ]
  },
  {
   "cell_type": "markdown",
   "metadata": {},
   "source": [
    "De entre estas soluciones, nos quedaremos con la correcta. Esta nos indicará un valor máximo al tiempo en que el proyectil tiene que encontrar al coche."
   ]
  },
  {
   "cell_type": "code",
   "execution_count": 7,
   "metadata": {
    "jupyter": {
     "source_hidden": true
    }
   },
   "outputs": [
    {
     "name": "stdout",
     "output_type": "stream",
     "text": [
      "La solución es: 3.49748708391334\n"
     ]
    }
   ],
   "source": [
    "t_suelo_OK = cine.Sol_correcta(t_suelo)\n",
    "print(\"La solución es:\",t_suelo_OK)"
   ]
  },
  {
   "cell_type": "markdown",
   "metadata": {},
   "source": [
    "## Ecuaciones de movimiento del proyectil\n",
    "---\n",
    " Comenzamos con los datos iniciales del proyectil y definimos las ecuaciones."
   ]
  },
  {
   "cell_type": "code",
   "execution_count": 8,
   "metadata": {
    "tags": []
   },
   "outputs": [],
   "source": [
    "# Datos iniciales\n",
    "x_proyectil_0 = 0     # m\n",
    "y_proyectil_0 = 0     # m\n",
    "v_proyectil   = 160/3.6  # m·s-1\n",
    "# ang_lanzamiento = 30"
   ]
  },
  {
   "cell_type": "code",
   "execution_count": 9,
   "metadata": {
    "jupyter": {
     "source_hidden": true
    },
    "tags": []
   },
   "outputs": [
    {
     "name": "stdout",
     "output_type": "stream",
     "text": [
      "Velocidad horizontal del proyectil:  v_x  m·s⁻¹\n",
      "Velocidad vertical del proyectil:  v_y  m·s⁻¹\n"
     ]
    }
   ],
   "source": [
    "# Trabajar con el ángulo proporciona errores en la resolución\n",
    "# trabajaremos pues con los catetos ya que la hipotenusa es la\n",
    "# velocidad. Recordar que los catetos\n",
    "# se relacionan por la hipotenusa (no utilizamos el ángulo)\n",
    "\n",
    "# v_proyectil = symbols('v_proyectil')\n",
    "# ang_lanzamiento = symbols('alpha')   # en radianes\n",
    "# Proporciona error por el problema del cálculo no sympy de math.cos\n",
    "\n",
    "# v_proyectil_x_0 = v_proyectil*cos(ang_lanzamiento) \n",
    "# v_proyectil_y_0 = v_proyectil*sin(ang_lanzamiento)\n",
    "\n",
    "v_proyectil_x_0 = symbols('v_x')\n",
    "v_proyectil_y_0= symbols('v_y')\n",
    "print('Velocidad horizontal del proyectil: ',v_proyectil_x_0,' m·s⁻¹')\n",
    "print('Velocidad vertical del proyectil: ',v_proyectil_y_0,' m·s⁻¹')"
   ]
  },
  {
   "cell_type": "code",
   "execution_count": 10,
   "metadata": {
    "jupyter": {
     "source_hidden": true
    },
    "tags": []
   },
   "outputs": [
    {
     "name": "stdout",
     "output_type": "stream",
     "text": [
      "Las ecuaciones de movimiento son:\n",
      "   x_proyectil =  t*v_x  m\n",
      "   y_proyectil = -4.905*t**2 + t*v_y  m\n",
      "\n",
      "Las ecuaciones de velocidad son:\n",
      "   v_proyectil_x = v_x  m·s⁻¹\n",
      "   v_proyectil_y = -9.81*t + v_y  m·s⁻¹\n"
     ]
    },
    {
     "data": {
      "image/png": "[encoded data removed]",
      "text/latex": [
       "$\\displaystyle \\left[ \\left( t v_{x}, \\  - 4.905 t^{2} + t v_{y}\\right), \\  \\left( v_{x}, \\  - 9.81 t + v_{y}\\right)\\right]$"
      ],
      "text/plain": [
       "⎡⎛               2        ⎞                     ⎤\n",
       "⎣⎝t⋅vₓ, - 4.905⋅t  + t⋅v_y⎠, (vₓ, -9.81⋅t + v_y)⎦"
      ]
     },
     "execution_count": 10,
     "metadata": {},
     "output_type": "execute_result"
    }
   ],
   "source": [
    "# Ecuaciones de movimiento del Proyectil\n",
    "#    Posición  Ahora hacemos uso de las ecuaciones directamente\n",
    "x_proyectil = cine.MRU_x(x_proyectil_0 , v_proyectil_x_0 , t)\n",
    "y_proyectil = cine.MRUA_x(y_proyectil_0 , v_proyectil_y_0 , g , t)\n",
    "#    Velocidad\n",
    "v_proyectil_x = cine.MRU_v(x_proyectil_0 , v_proyectil_x_0 , t)\n",
    "v_proyectil_y = cine.MRUA_v(y_proyectil_0 , v_proyectil_y_0 , g , t)\n",
    "\n",
    "print('Las ecuaciones de movimiento son:')\n",
    "print('   x_proyectil = ',x_proyectil,' m')\n",
    "print('   y_proyectil =',y_proyectil,' m')\n",
    "print('\\nLas ecuaciones de velocidad son:')\n",
    "print('   v_proyectil_x =',v_proyectil_x,' m·s⁻¹')\n",
    "print('   v_proyectil_y =',v_proyectil_y,' m·s⁻¹')\n",
    "[(x_proyectil,y_proyectil),(v_proyectil_x,v_proyectil_y)]"
   ]
  },
  {
   "cell_type": "markdown",
   "metadata": {},
   "source": [
    "## Condiciones de contorno\n",
    "---\n",
    "Determinemos el lugar de intersección. Para ello impongamos dos condiciones:"
   ]
  },
  {
   "cell_type": "markdown",
   "metadata": {},
   "source": [
    "   * Las posiciones horizontales de los cuerpos han de ser las mismas"
   ]
  },
  {
   "cell_type": "code",
   "execution_count": 11,
   "metadata": {
    "jupyter": {
     "source_hidden": true
    }
   },
   "outputs": [
    {
     "data": {
      "image/png": "[encoded data removed]",
      "text/latex": [
       "$\\displaystyle 38.8888888888889 t = t v_{x}$"
      ],
      "text/plain": [
       "38.8888888888889⋅t = t⋅vₓ"
      ]
     },
     "execution_count": 11,
     "metadata": {},
     "output_type": "execute_result"
    }
   ],
   "source": [
    "Interseccion_x = Eq(x_coche,x_proyectil)\n",
    "Interseccion_x"
   ]
  },
  {
   "cell_type": "markdown",
   "metadata": {},
   "source": [
    "* Las posiciones verticales (alturas) de los cuerpos han de ser la misma"
   ]
  },
  {
   "cell_type": "code",
   "execution_count": 12,
   "metadata": {
    "jupyter": {
     "source_hidden": true
    }
   },
   "outputs": [
    {
     "data": {
      "image/png": "[encoded data removed]",
      "text/latex": [
       "$\\displaystyle 60 - 4.905 t^{2} = - 4.905 t^{2} + t v_{y}$"
      ],
      "text/plain": [
       "            2            2        \n",
       "60 - 4.905⋅t  = - 4.905⋅t  + t⋅v_y"
      ]
     },
     "execution_count": 12,
     "metadata": {},
     "output_type": "execute_result"
    }
   ],
   "source": [
    "Interseccion_y = Eq(y_coche,y_proyectil)\n",
    "Interseccion_y"
   ]
  },
  {
   "cell_type": "markdown",
   "metadata": {},
   "source": [
    "   * La intersección se ha de conseguir la altuta indicada en el enunciado"
   ]
  },
  {
   "cell_type": "code",
   "execution_count": 13,
   "metadata": {
    "jupyter": {
     "source_hidden": true
    }
   },
   "outputs": [
    {
     "data": {
      "image/png": "[encoded data removed]",
      "text/latex": [
       "$\\displaystyle 60 - 4.905 t^{2} = 25$"
      ],
      "text/plain": [
       "            2     \n",
       "60 - 4.905⋅t  = 25"
      ]
     },
     "execution_count": 13,
     "metadata": {},
     "output_type": "execute_result"
    }
   ],
   "source": [
    "Condicion = Eq(y_coche,y_final)\n",
    "Condicion"
   ]
  },
  {
   "cell_type": "markdown",
   "metadata": {},
   "source": [
    "### Resolución de las condiciones de contorno\n",
    "---\n",
    "Resolvamos ahora el sistema de tres ecuaciones con tres incognitas: \n",
    "   * el tiempo,\n",
    "   * la velocidad de lanzamiento en el eje x\n",
    "   * la velocidad de lanzamiento en el eje y\n",
    "  \n",
    "Nuestra primera intención es resolver el sistema mediante fuerza bruta, es decir, utilizando la función __`solve`__ perteneciente a la librería `math`"
   ]
  },
  {
   "cell_type": "code",
   "execution_count": 14,
   "metadata": {
    "jupyter": {
     "source_hidden": true
    }
   },
   "outputs": [
    {
     "data": {
      "image/png": "[encoded data removed]",
      "text/latex": [
       "$\\displaystyle \\left[ \\right]$"
      ],
      "text/plain": [
       "[]"
      ]
     },
     "execution_count": 14,
     "metadata": {},
     "output_type": "execute_result"
    }
   ],
   "source": [
    "# Versión para _angulo de lanzamiento\n",
    "# solve( [ Condicion , Interseccion_x , Interseccion_y   ] , [t, v_proyectil, ang_lanzamiento] )\n",
    "\n",
    "# Versión para componentes de la velocidad\n",
    "solve( [ Condicion , Interseccion_x , Interseccion_y   ] , [t, v_proyectil_x , v_proyectil_y ] )"
   ]
  },
  {
   "cell_type": "markdown",
   "metadata": {},
   "source": [
    "Como se observa, la mencionada función no puede resolver el sistema proporcionado. Para solucionar esta circunstancia, vamos a resolver el sistema paso a paso."
   ]
  },
  {
   "cell_type": "markdown",
   "metadata": {},
   "source": [
    "En primer lugar determinamos el tiempo de encuentro a partir de la condición de contorno de altura."
   ]
  },
  {
   "cell_type": "code",
   "execution_count": 15,
   "metadata": {
    "jupyter": {
     "source_hidden": true
    },
    "tags": []
   },
   "outputs": [
    {
     "data": {
      "image/png": "[encoded data removed]",
      "text/latex": [
       "$\\displaystyle \\left( 60 - 4.905 t^{2} = 25, \\  2.67124988402721\\right)$"
      ],
      "text/plain": [
       "⎛            2                       ⎞\n",
       "⎝60 - 4.905⋅t  = 25, 2.67124988402721⎠"
      ]
     },
     "execution_count": 15,
     "metadata": {},
     "output_type": "execute_result"
    }
   ],
   "source": [
    "t_sol = cine.Sol_correcta(solve(Condicion))\n",
    "Condicion , t_sol"
   ]
  },
  {
   "cell_type": "markdown",
   "metadata": {},
   "source": [
    "Y a partir de las intersecciones obtenemos las velocidades en cada uno de los ejes.\n",
    "   * Para el eje x, la ecuación es:"
   ]
  },
  {
   "cell_type": "code",
   "execution_count": 16,
   "metadata": {
    "jupyter": {
     "source_hidden": true
    }
   },
   "outputs": [
    {
     "data": {
      "image/png": "[encoded data removed]",
      "text/latex": [
       "$\\displaystyle 103.881939934392 = 2.67124988402721 v_{x}$"
      ],
      "text/plain": [
       "103.881939934392 = 2.67124988402721⋅vₓ"
      ]
     },
     "execution_count": 16,
     "metadata": {},
     "output_type": "execute_result"
    }
   ],
   "source": [
    "Interseccion_x_t = Interseccion_x.subs(t, t_sol)\n",
    "Interseccion_x_t"
   ]
  },
  {
   "cell_type": "markdown",
   "metadata": {},
   "source": [
    "y su solución:"
   ]
  },
  {
   "cell_type": "code",
   "execution_count": 17,
   "metadata": {
    "jupyter": {
     "source_hidden": true
    }
   },
   "outputs": [
    {
     "name": "stdout",
     "output_type": "stream",
     "text": [
      "La componente horizontal de la velocidad inicial es 38.8888888888891 m·s-1\n"
     ]
    }
   ],
   "source": [
    "v_x_0 = solve(Interseccion_x_t)[0]\n",
    "print('La componente horizontal de la velocidad inicial es',v_x_0,'m·s-1')"
   ]
  },
  {
   "cell_type": "markdown",
   "metadata": {},
   "source": [
    "   * Para el eje y, la ecuación es:"
   ]
  },
  {
   "cell_type": "code",
   "execution_count": 18,
   "metadata": {
    "jupyter": {
     "source_hidden": true
    }
   },
   "outputs": [
    {
     "data": {
      "image/png": "[encoded data removed]",
      "text/latex": [
       "$\\displaystyle 25.0 = 2.67124988402721 v_{y} - 35.0$"
      ],
      "text/plain": [
       "25.0 = 2.67124988402721⋅v_y - 35.0"
      ]
     },
     "execution_count": 18,
     "metadata": {},
     "output_type": "execute_result"
    }
   ],
   "source": [
    "Interseccion_y_t = Interseccion_y.subs(t, t_sol)\n",
    "Interseccion_y_t"
   ]
  },
  {
   "cell_type": "markdown",
   "metadata": {},
   "source": [
    "y su solución:"
   ]
  },
  {
   "cell_type": "code",
   "execution_count": 19,
   "metadata": {
    "jupyter": {
     "source_hidden": true
    }
   },
   "outputs": [
    {
     "name": "stdout",
     "output_type": "stream",
     "text": [
      "La componente vertical de la velocidad inicial es 22.4613954534060 m·s-1\n"
     ]
    }
   ],
   "source": [
    "# solve(Interseccion_y_t, v_proyectil_y)\n",
    "v_y_0 = solve(Interseccion_y_t)[0]\n",
    "print('La componente vertical de la velocidad inicial es',v_y_0,'m·s-1')"
   ]
  },
  {
   "cell_type": "markdown",
   "metadata": {},
   "source": [
    "Y el módulo de la velocidad nos indica su valor."
   ]
  },
  {
   "cell_type": "code",
   "execution_count": 20,
   "metadata": {
    "jupyter": {
     "source_hidden": true
    }
   },
   "outputs": [
    {
     "name": "stdout",
     "output_type": "stream",
     "text": [
      "La velocidad tiene un valor de v = 44.90946408861552 m·s-1\n"
     ]
    }
   ],
   "source": [
    "v_pro_0 = cine.modulo(v_x_0,v_y_0)\n",
    "print('La velocidad tiene un valor de v =',v_pro_0,'m·s-1')"
   ]
  },
  {
   "cell_type": "markdown",
   "metadata": {},
   "source": [
    "Y el ángulo de lanzamiento:"
   ]
  },
  {
   "cell_type": "code",
   "execution_count": 21,
   "metadata": {
    "jupyter": {
     "source_hidden": true
    }
   },
   "outputs": [
    {
     "data": {
      "image/png": "[encoded data removed]",
      "text/latex": [
       "$\\displaystyle \\left( 0.523770111926779, \\  30.0098168484992\\right)$"
      ],
      "text/plain": [
       "(0.523770111926779, 30.0098168484992)"
      ]
     },
     "execution_count": 21,
     "metadata": {},
     "output_type": "execute_result"
    }
   ],
   "source": [
    "ang_lanzamiento_rad = atan(v_y_0/v_x_0)\n",
    "ang_lanzamiento = ang_lanzamiento_rad * 180 / math.pi\n",
    "ang_lanzamiento_rad, ang_lanzamiento"
   ]
  },
  {
   "cell_type": "markdown",
   "metadata": {},
   "source": [
    "Otras formas de resolver no proporcionan resultados interesantes, pero no indican todas las soluciones:"
   ]
  },
  {
   "cell_type": "code",
   "execution_count": 22,
   "metadata": {
    "jupyter": {
     "source_hidden": true
    }
   },
   "outputs": [],
   "source": [
    "# No resolverlo porque borra el valor de t_sol\n",
    "\n",
    "# solve( [  Interseccion_x_t , Interseccion_y_t   ] , [ v_proyectil_x , v_proyectil_y ] )"
   ]
  },
  {
   "cell_type": "markdown",
   "metadata": {},
   "source": [
    "Recapitulando, ya conocemos:"
   ]
  },
  {
   "cell_type": "code",
   "execution_count": 23,
   "metadata": {
    "jupyter": {
     "source_hidden": true
    }
   },
   "outputs": [
    {
     "name": "stdout",
     "output_type": "stream",
     "text": [
      "El tiempo en encontrarse: t = 2.67124988402721 s\n",
      "La componente x de la velocidad inicial, v_x_0 = 38.8888888888891 m·s-1\n",
      "La componente y de la velocidad inicial, v_y_0 = 22.4613954534060 m·s-1\n",
      "El módulo de la velocidad inicial, v = 44.90946408861552 m·s-1\n",
      "El ángulo de lanzamiento, a = 30.0098168484992 º\n"
     ]
    }
   ],
   "source": [
    "print ('El tiempo en encontrarse: t =',t_sol,'s')\n",
    "print ('La componente x de la velocidad inicial, v_x_0 =',v_x_0,'m·s-1')\n",
    "print ('La componente y de la velocidad inicial, v_y_0 =',v_y_0,'m·s-1')\n",
    "print ('El módulo de la velocidad inicial, v =',v_pro_0,'m·s-1')\n",
    "print ('El ángulo de lanzamiento, a =',ang_lanzamiento,'º')"
   ]
  },
  {
   "cell_type": "markdown",
   "metadata": {},
   "source": [
    "## Punto de encuentro\n",
    "---\n",
    "A partir del resultado anterior, es sencillo obtener los valores del punto de encuentro y las velocidades de impacto.\n",
    "   * El punto de impacto"
   ]
  },
  {
   "cell_type": "code",
   "execution_count": 24,
   "metadata": {
    "jupyter": {
     "source_hidden": true
    }
   },
   "outputs": [
    {
     "name": "stdout",
     "output_type": "stream",
     "text": [
      "Las ecuaciones que rigen el coche son ( 38.8888888888889*t , 60 - 4.905*t**2 ) m\n",
      "Se encuentran en el punto ( 103.881939934392 25.0000000000000 ) m\n"
     ]
    }
   ],
   "source": [
    "print('Las ecuaciones que rigen el coche son (',x_coche,',', y_coche,') m')\n",
    "\n",
    "x_impacto = x_coche.subs(t,t_sol)\n",
    "y_impacto = y_coche.subs(t,t_sol)\n",
    "\n",
    "print('Se encuentran en el punto (',x_impacto,y_impacto,') m')"
   ]
  },
  {
   "cell_type": "code",
   "execution_count": 25,
   "metadata": {
    "jupyter": {
     "source_hidden": true
    }
   },
   "outputs": [
    {
     "name": "stdout",
     "output_type": "stream",
     "text": [
      "Las ecuaciones que rigen el proyectil son ( t*v_x , -4.905*t**2 + 22.461395453406*t ) m\n",
      "Se encuentran en el punto ( 103.881939934392 25.0000000000000 ) m\n"
     ]
    }
   ],
   "source": [
    "print('Las ecuaciones que rigen el proyectil son (',x_proyectil,',', y_proyectil.subs(v_proyectil_y_0,v_y_0),') m')\n",
    "\n",
    "x_impacto = x_coche.subs(t,t_sol)\n",
    "y_impacto = y_coche.subs(t,t_sol)\n",
    "\n",
    "print('Se encuentran en el punto (',\n",
    "      x_proyectil.subs( { t: t_sol , v_proyectil_x_0: v_x_0 } ),\n",
    "      y_proyectil.subs( { t: t_sol , v_proyectil_y_0: v_y_0 } ),') m')"
   ]
  },
  {
   "cell_type": "markdown",
   "metadata": {},
   "source": [
    "   * La velocidad de impacto"
   ]
  },
  {
   "cell_type": "code",
   "execution_count": 26,
   "metadata": {
    "jupyter": {
     "source_hidden": true
    },
    "tags": []
   },
   "outputs": [
    {
     "name": "stdout",
     "output_type": "stream",
     "text": [
      "Lo que corresponde a un valor de  46.89398339885774 m·s⁻¹\n",
      "La velocidad del coche es ( 38.888888888888886 -26.2049613623069 ) m·s⁻¹\n",
      "El coche está bajando.\n"
     ]
    }
   ],
   "source": [
    "v_coche_impacto_x = v_coche_x\n",
    "v_coche_impacto_y = v_coche_y.subs(t,t_sol)\n",
    "v_coche_impacto = cine.modulo(v_coche_impacto_x , v_coche_impacto_y)\n",
    "print('Lo que corresponde a un valor de ',v_coche_impacto,'m·s⁻¹')\n",
    "print('La velocidad del coche es (',v_coche_impacto_x,v_coche_impacto_y,') m·s⁻¹')\n",
    "if v_coche_impacto_y <0:\n",
    "    print('El coche está bajando.')\n",
    "else:\n",
    "    print('El coche está subiendo.')"
   ]
  },
  {
   "cell_type": "code",
   "execution_count": 27,
   "metadata": {
    "jupyter": {
     "source_hidden": true
    },
    "tags": []
   },
   "outputs": [
    {
     "name": "stdout",
     "output_type": "stream",
     "text": [
      "Lo que corresponde a un valor de  39.06865706326039 m·s⁻¹\n",
      "La velocidad del proyectil es ( 38.8888888888891 -3.74356590890098 ) m·s⁻¹\n",
      "El proyectil está bajando.\n"
     ]
    }
   ],
   "source": [
    "v_proyectil_impacto_x = v_proyectil_x.subs( {t: t_sol , v_proyectil_x_0: v_x_0} )\n",
    "v_proyectil_impacto_y = v_proyectil_y.subs( {t: t_sol , v_proyectil_y_0: v_y_0} )\n",
    "v_proyectil_impacto = cine.modulo(v_proyectil_impacto_x , v_proyectil_impacto_y)\n",
    "print('Lo que corresponde a un valor de ',v_proyectil_impacto,'m·s⁻¹')\n",
    "print('La velocidad del proyectil es (',v_proyectil_impacto_x,v_proyectil_impacto_y,') m·s⁻¹')\n",
    "if v_proyectil_impacto_y <0:\n",
    "    print('El proyectil está bajando.')\n",
    "else:\n",
    "    print('El proyectil está subiendo.')"
   ]
  },
  {
   "cell_type": "markdown",
   "metadata": {},
   "source": [
    "### Representación gráfica\n",
    "---\n",
    "A partir de las ecuaciones de movimiento se representan las trayectorias de los cuerpos y se verifica el resultado previamente obtenido."
   ]
  },
  {
   "cell_type": "code",
   "execution_count": 28,
   "metadata": {
    "jupyter": {
     "source_hidden": true
    },
    "tags": []
   },
   "outputs": [
    {
     "data": {
      "text/plain": [
       "[<matplotlib.lines.Line2D at 0x7fd9cedf9c10>]"
      ]
     },
     "execution_count": 28,
     "metadata": {},
     "output_type": "execute_result"
    },
    {
     "data": {
      "image/png": "[encoded data removed]",
      "text/plain": [
       "<Figure size 720x432 with 1 Axes>"
      ]
     },
     "metadata": {
      "needs_background": "light"
     },
     "output_type": "display_data"
    }
   ],
   "source": [
    "# Dibujando las ecuaciones\n",
    "t_lin=np.linspace(0,int(t_sol*1.2*1e3)/1e3,num=20)\n",
    "\n",
    "# Creamos el array y lo rellenamos de ceros\n",
    "y_caida_graf  = np.zeros(len(t_lin))\n",
    "y_subida_graf = np.zeros(len(t_lin))\n",
    "\n",
    "# Ahora rellenamos el array con los valores que le corresponden\n",
    "y_proyectil=y_proyectil.subs( {  v_proyectil_y_0: v_y_0 } )   # Se sustituye el valor para siempre\n",
    "for  i in range(len(t_lin)):\n",
    "    y_caida_graf[i]  = y_coche.subs(t,t_lin[i])\n",
    "    y_subida_graf[i] = y_proyectil.subs(t,t_lin[i])\n",
    "\n",
    "# Ahora definimos el tamaño del gráfico a más grande\n",
    "plt.figure(figsize=(10,6))\n",
    "# y delimitamos la región a representar => np.int() is deprecate, utilizar int()\n",
    "plt.xlim(0,int(t_sol*1.2*1e3)/1e3)\n",
    "plt.ylim(0,65)\n",
    "\n",
    "# Introducimos leyendas\n",
    "plt.xlabel('t')\n",
    "plt.ylabel('y')\n",
    "\n",
    "# Representamos las funciones\n",
    "plt.plot(t_lin,y_caida_graf)\n",
    "plt.plot(t_lin,y_subida_graf)\n"
   ]
  }
 ],
 "metadata": {
  "kernelspec": {
   "display_name": "Python 3",
   "language": "python",
   "name": "python3"
  },
  "language_info": {
   "codemirror_mode": {
    "name": "ipython",
    "version": 3
   },
   "file_extension": ".py",
   "mimetype": "text/x-python",
   "name": "python",
   "nbconvert_exporter": "python",
   "pygments_lexer": "ipython3",
   "version": "3.8.3"
  },
  "toc-autonumbering": true,
  "toc-showcode": false,
  "toc-showmarkdowntxt": false
 },
 "nbformat": 4,
 "nbformat_minor": 4
}
