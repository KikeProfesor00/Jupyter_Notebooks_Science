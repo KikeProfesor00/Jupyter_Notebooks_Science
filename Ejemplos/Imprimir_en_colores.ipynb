{
 "cells": [
  {
   "cell_type": "code",
   "execution_count": 1,
   "id": "17f162da",
   "metadata": {},
   "outputs": [
    {
     "name": "stdout",
     "output_type": "stream",
     "text": [
      "\u001b[92mSi te gusta esta publicación, dale un voto positivo\n",
      "\u001b[96mSi te gusta esta publicación, dale un voto positivo\n",
      "\u001b[93mSi te gusta esta publicación, dale un voto positivo\n",
      "\u001b[95mSi te gusta esta publicación, dale un voto positivo\n",
      "\u001b[1mSi te gusta esta publicación, vota a favor\n",
      "\u001b[4mSi te gusta esta publicación, vota a favor\n",
      "\u001b[94mSi te gusta esta publicación, dale un voto positivo\n"
     ]
    }
   ],
   "source": [
    "print (\"\\033[92mSi te gusta esta publicación, dale un voto positivo\")    \n",
    "print (\"\\033[96mSi te gusta esta publicación, dale un voto positivo\")    \n",
    "print (\"\\033[93mSi te gusta esta publicación, dale un voto positivo\")    \n",
    "print (\"\\033[95mSi te gusta esta publicación, dale un voto positivo\")    \n",
    "print (\"\\033[1mSi te gusta esta publicación, vota a favor\")    \n",
    "print (\"\\033[4mSi te gusta esta publicación, vota a favor\")    \n",
    "print (\"\\033[94mSi te gusta esta publicación, dale un voto positivo\")"
   ]
  },
  {
   "cell_type": "markdown",
   "id": "f6f982d1",
   "metadata": {},
   "source": [
    "\n",
    "Fuente:\n",
    "\n",
    "https://clcoding.quora.com/Print-Colourfull-Text-in-Python?ch=10&share=9bdda45e"
   ]
  },
  {
   "cell_type": "code",
   "execution_count": 2,
   "id": "d67b744c",
   "metadata": {},
   "outputs": [
    {
     "name": "stdout",
     "output_type": "stream",
     "text": [
      "\u001b[0;37mImprime en blanco\n"
     ]
    }
   ],
   "source": [
    "print (\"\\033[0;37mImprime en blanco\")"
   ]
  },
  {
   "cell_type": "code",
   "execution_count": 3,
   "id": "dc7e2946",
   "metadata": {},
   "outputs": [
    {
     "name": "stdout",
     "output_type": "stream",
     "text": [
      "\u001b[0;30mImprime en negro\n"
     ]
    }
   ],
   "source": [
    "print (\"\\033[0;30mImprime en negro\")"
   ]
  },
  {
   "cell_type": "code",
   "execution_count": 4,
   "id": "0ec3ea65",
   "metadata": {},
   "outputs": [
    {
     "name": "stdout",
     "output_type": "stream",
     "text": [
      "\u001b[0;30mImprime en color 0\n",
      "\u001b[0;31mImprime en color 1\n",
      "\u001b[0;32mImprime en color 2\n",
      "\u001b[0;33mImprime en color 3\n",
      "\u001b[0;34mImprime en color 4\n",
      "\u001b[0;35mImprime en color 5\n",
      "\u001b[0;36mImprime en color 6\n",
      "\u001b[0;37mImprime en color 7\n",
      "\u001b[0;38mImprime en color 8\n",
      "\u001b[0;39mImprime en color 9\n"
     ]
    }
   ],
   "source": [
    "for n in range(10):\n",
    "    #print (\"\\033[0;30mImprime en\",n )\n",
    "    T1='\\033[0;3'\n",
    "    T2='mImprime en color '\n",
    "    T=T1+str(n)+T2+str(n)\n",
    "    print (T)"
   ]
  },
  {
   "cell_type": "code",
   "execution_count": 5,
   "id": "2e57bb27",
   "metadata": {},
   "outputs": [
    {
     "name": "stdout",
     "output_type": "stream",
     "text": [
      "\u001b[0;01mImprime en 0\n",
      "\u001b[0;11mImprime en 1\n",
      "\u001b[0;21mImprime en 2\n",
      "\u001b[0;31mImprime en 3\n",
      "\u001b[0;41mImprime en 4\n",
      "\u001b[0;51mImprime en 5\n",
      "\u001b[0;61mImprime en 6\n",
      "\u001b[0;71mImprime en 7\n",
      "\u001b[0;81mImprime en 8\n",
      "\u001b[0;91mImprime en 9\n"
     ]
    }
   ],
   "source": [
    "for n in range(10):     \n",
    "    #print (\"\\033[0;30mImprime en\",n )     \n",
    "    T1='\\033[0;'     \n",
    "    T2='1mImprime en '     \n",
    "    T=T1+str(n)+T2+str(n)     \n",
    "    print (T)"
   ]
  },
  {
   "cell_type": "code",
   "execution_count": 6,
   "id": "604502fe",
   "metadata": {},
   "outputs": [
    {
     "name": "stdout",
     "output_type": "stream",
     "text": [
      "\u001b[0;30;0mImprime en color 0\n",
      "\u001b[0;30;1mImprime en color 1\n",
      "\u001b[0;30;2mImprime en color 2\n",
      "\u001b[0;30;3mImprime en color 3\n",
      "\u001b[0;30;4mImprime en color 4\n",
      "\u001b[0;30;5mImprime en color 5\n",
      "\u001b[0;30;6mImprime en color 6\n",
      "\u001b[0;30;7mImprime en color 7\n",
      "\u001b[0;30;8mImprime en color 8\n",
      "\u001b[0;30;9mImprime en color 9\n"
     ]
    }
   ],
   "source": [
    "for n in range(10):\n",
    "    #print (\"\\033[0;30mImprime en\",n )\n",
    "    T1='\\033[0;30;'\n",
    "    T2='mImprime en color '\n",
    "    T=T1+str(n)+T2+str(n)\n",
    "    print (T)"
   ]
  },
  {
   "cell_type": "code",
   "execution_count": 7,
   "id": "8ba37814",
   "metadata": {},
   "outputs": [
    {
     "name": "stdout",
     "output_type": "stream",
     "text": [
      "\u001b[0;30;40mImprime en color 0\n",
      "\u001b[0;30;41mImprime en color 1\n",
      "\u001b[0;30;42mImprime en color 2\n",
      "\u001b[0;30;43mImprime en color 3\n",
      "\u001b[0;30;44mImprime en color 4\n",
      "\u001b[0;30;45mImprime en color 5\n",
      "\u001b[0;30;46mImprime en color 6\n",
      "\u001b[0;30;47mImprime en color 7\n",
      "\u001b[0;30;48mImprime en color 8\n",
      "\u001b[0;30;49mImprime en color 9\n"
     ]
    }
   ],
   "source": [
    "for n in range(10):\n",
    "    #print (\"\\033[0;30mImprime en\",n )\n",
    "    T1='\\033[0;30;4'\n",
    "    T2='mImprime en color '\n",
    "    T=T1+str(n)+T2+str(n)\n",
    "    print (T)"
   ]
  },
  {
   "cell_type": "code",
   "execution_count": 8,
   "id": "f1c7e8b5",
   "metadata": {},
   "outputs": [
    {
     "name": "stdout",
     "output_type": "stream",
     "text": [
      "\u001b[0;310;40mImprime en color 0\n",
      "\u001b[0;39;41mImprime en color 1\n",
      "\u001b[0;38;42mImprime en color 2\n",
      "\u001b[0;37;43mImprime en color 3\n",
      "\u001b[0;36;44mImprime en color 4\n",
      "\u001b[0;35;45mImprime en color 5\n",
      "\u001b[0;34;46mImprime en color 6\n",
      "\u001b[0;33;47mImprime en color 7\n",
      "\u001b[0;32;48mImprime en color 8\n",
      "\u001b[0;31;49mImprime en color 9\n"
     ]
    }
   ],
   "source": [
    "for n in range(10):\n",
    "    #print (\"\\033[0;30mImprime en\",n )\n",
    "    T1='\\033[0;3'\n",
    "    T11=';4'\n",
    "    T2='mImprime en color '\n",
    "    T=T1+str(10-n)+T11+str(n)+T2+str(n)\n",
    "    print (T)"
   ]
  },
  {
   "cell_type": "code",
   "execution_count": null,
   "id": "7405ff47-622f-4436-be48-25f544079a32",
   "metadata": {},
   "outputs": [],
   "source": []
  }
 ],
 "metadata": {
  "kernelspec": {
   "display_name": "Python 3",
   "language": "python",
   "name": "python3"
  },
  "language_info": {
   "codemirror_mode": {
    "name": "ipython",
    "version": 3
   },
   "file_extension": ".py",
   "mimetype": "text/x-python",
   "name": "python",
   "nbconvert_exporter": "python",
   "pygments_lexer": "ipython3",
   "version": "3.8.3"
  }
 },
 "nbformat": 4,
 "nbformat_minor": 5
}
